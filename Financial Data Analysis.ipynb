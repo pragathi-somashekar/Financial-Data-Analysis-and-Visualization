{
 "cells": [
  {
   "cell_type": "code",
   "execution_count": 1,
   "id": "3e662a01-cdf0-42d4-8894-a846f1727f47",
   "metadata": {},
   "outputs": [],
   "source": [
    "#1“cd” and “datetime”"
   ]
  },
  {
   "cell_type": "code",
   "execution_count": 2,
   "id": "7636c5f4-463a-45a4-95b6-ea022a6a4015",
   "metadata": {},
   "outputs": [
    {
     "name": "stdout",
     "output_type": "stream",
     "text": [
      "/Users/pragathi\n"
     ]
    }
   ],
   "source": [
    "cd"
   ]
  },
  {
   "cell_type": "code",
   "execution_count": 3,
   "id": "d70bfa93-28d8-4bd8-9525-d21c7d53f109",
   "metadata": {},
   "outputs": [
    {
     "name": "stdout",
     "output_type": "stream",
     "text": [
      "2024-11-26 08:08:24.653839\n"
     ]
    }
   ],
   "source": [
    "import datetime\n",
    "print(datetime.datetime.now())"
   ]
  },
  {
   "cell_type": "code",
   "execution_count": 4,
   "id": "0595b0b7-a747-4338-bc3a-466f14bc4244",
   "metadata": {},
   "outputs": [],
   "source": [
    "#2.importing libraries\n",
    "import pandas as pd\n",
    "import wrds"
   ]
  },
  {
   "cell_type": "code",
   "execution_count": 5,
   "id": "e15a0383-717e-4b24-93e9-4f325d5444c1",
   "metadata": {},
   "outputs": [
    {
     "name": "stdin",
     "output_type": "stream",
     "text": [
      "Enter your WRDS username [pragathi]: pragathi06\n",
      "Enter your password: ········\n"
     ]
    },
    {
     "name": "stdout",
     "output_type": "stream",
     "text": [
      "WRDS recommends setting up a .pgpass file.\n"
     ]
    },
    {
     "name": "stdin",
     "output_type": "stream",
     "text": [
      "Create .pgpass file now [y/n]?:  n\n"
     ]
    },
    {
     "name": "stdout",
     "output_type": "stream",
     "text": [
      "You can create this file yourself at any time with the create_pgpass_file() function.\n",
      "Loading library list...\n",
      "Done\n"
     ]
    }
   ],
   "source": [
    "#3.connecting WRDS using your ID and password\n",
    "conn=wrds.Connection()"
   ]
  },
  {
   "cell_type": "code",
   "execution_count": 6,
   "id": "a4c1bb83-3dc8-4e87-8b50-618f5a8024dd",
   "metadata": {},
   "outputs": [],
   "source": [
    "#4.download the company basic info data- columns including 'siccd', 'permno,' 'ticker','comnam', 'cusip', and 'namedt'\n",
    "info_crsp=conn.get_table(library='crsp', table='stocknames', columns =['siccd', 'permno', 'ticker','comnam', 'cusip','namedt'])"
   ]
  },
  {
   "cell_type": "code",
   "execution_count": 7,
   "id": "d04e2442-5449-4497-b512-4fee7b46c68e",
   "metadata": {},
   "outputs": [
    {
     "data": {
      "text/html": [
       "<div>\n",
       "<style scoped>\n",
       "    .dataframe tbody tr th:only-of-type {\n",
       "        vertical-align: middle;\n",
       "    }\n",
       "\n",
       "    .dataframe tbody tr th {\n",
       "        vertical-align: top;\n",
       "    }\n",
       "\n",
       "    .dataframe thead th {\n",
       "        text-align: right;\n",
       "    }\n",
       "</style>\n",
       "<table border=\"1\" class=\"dataframe\">\n",
       "  <thead>\n",
       "    <tr style=\"text-align: right;\">\n",
       "      <th></th>\n",
       "      <th>siccd</th>\n",
       "      <th>permno</th>\n",
       "      <th>ticker</th>\n",
       "      <th>comnam</th>\n",
       "      <th>cusip</th>\n",
       "      <th>namedt</th>\n",
       "    </tr>\n",
       "  </thead>\n",
       "  <tbody>\n",
       "    <tr>\n",
       "      <th>0</th>\n",
       "      <td>3990</td>\n",
       "      <td>10000</td>\n",
       "      <td>OMFGA</td>\n",
       "      <td>OPTIMUM MANUFACTURING INC</td>\n",
       "      <td>68391610</td>\n",
       "      <td>1986-01-07</td>\n",
       "    </tr>\n",
       "    <tr>\n",
       "      <th>1</th>\n",
       "      <td>4920</td>\n",
       "      <td>10001</td>\n",
       "      <td>GFGC</td>\n",
       "      <td>GREAT FALLS GAS CO</td>\n",
       "      <td>36720410</td>\n",
       "      <td>1986-01-09</td>\n",
       "    </tr>\n",
       "    <tr>\n",
       "      <th>2</th>\n",
       "      <td>4920</td>\n",
       "      <td>10001</td>\n",
       "      <td>EWST</td>\n",
       "      <td>ENERGY WEST INC</td>\n",
       "      <td>36720410</td>\n",
       "      <td>1993-11-22</td>\n",
       "    </tr>\n",
       "    <tr>\n",
       "      <th>3</th>\n",
       "      <td>4920</td>\n",
       "      <td>10001</td>\n",
       "      <td>EWST</td>\n",
       "      <td>ENERGY WEST INC</td>\n",
       "      <td>36720410</td>\n",
       "      <td>2008-02-05</td>\n",
       "    </tr>\n",
       "    <tr>\n",
       "      <th>4</th>\n",
       "      <td>4920</td>\n",
       "      <td>10001</td>\n",
       "      <td>EGAS</td>\n",
       "      <td>ENERGY INC</td>\n",
       "      <td>36720410</td>\n",
       "      <td>2009-08-04</td>\n",
       "    </tr>\n",
       "    <tr>\n",
       "      <th>...</th>\n",
       "      <td>...</td>\n",
       "      <td>...</td>\n",
       "      <td>...</td>\n",
       "      <td>...</td>\n",
       "      <td>...</td>\n",
       "      <td>...</td>\n",
       "    </tr>\n",
       "    <tr>\n",
       "      <th>80785</th>\n",
       "      <td>9999</td>\n",
       "      <td>93433</td>\n",
       "      <td>VLTC</td>\n",
       "      <td>VOLTARI CORP</td>\n",
       "      <td>92870X30</td>\n",
       "      <td>2013-04-24</td>\n",
       "    </tr>\n",
       "    <tr>\n",
       "      <th>80786</th>\n",
       "      <td>9999</td>\n",
       "      <td>93434</td>\n",
       "      <td>SANW</td>\n",
       "      <td>S &amp; W SEED CO</td>\n",
       "      <td>78513510</td>\n",
       "      <td>2010-06-14</td>\n",
       "    </tr>\n",
       "    <tr>\n",
       "      <th>80787</th>\n",
       "      <td>6163</td>\n",
       "      <td>93435</td>\n",
       "      <td>SCEI</td>\n",
       "      <td>SINO CLEAN ENERGY INC</td>\n",
       "      <td>82936G20</td>\n",
       "      <td>2010-06-14</td>\n",
       "    </tr>\n",
       "    <tr>\n",
       "      <th>80788</th>\n",
       "      <td>9999</td>\n",
       "      <td>93436</td>\n",
       "      <td>TSLA</td>\n",
       "      <td>TESLA MOTORS INC</td>\n",
       "      <td>88160R10</td>\n",
       "      <td>2010-06-29</td>\n",
       "    </tr>\n",
       "    <tr>\n",
       "      <th>80789</th>\n",
       "      <td>9999</td>\n",
       "      <td>93436</td>\n",
       "      <td>TSLA</td>\n",
       "      <td>TESLA INC</td>\n",
       "      <td>88160R10</td>\n",
       "      <td>2017-02-02</td>\n",
       "    </tr>\n",
       "  </tbody>\n",
       "</table>\n",
       "<p>80790 rows × 6 columns</p>\n",
       "</div>"
      ],
      "text/plain": [
       "       siccd  permno ticker                     comnam     cusip      namedt\n",
       "0       3990   10000  OMFGA  OPTIMUM MANUFACTURING INC  68391610  1986-01-07\n",
       "1       4920   10001   GFGC         GREAT FALLS GAS CO  36720410  1986-01-09\n",
       "2       4920   10001   EWST            ENERGY WEST INC  36720410  1993-11-22\n",
       "3       4920   10001   EWST            ENERGY WEST INC  36720410  2008-02-05\n",
       "4       4920   10001   EGAS                 ENERGY INC  36720410  2009-08-04\n",
       "...      ...     ...    ...                        ...       ...         ...\n",
       "80785   9999   93433   VLTC               VOLTARI CORP  92870X30  2013-04-24\n",
       "80786   9999   93434   SANW              S & W SEED CO  78513510  2010-06-14\n",
       "80787   6163   93435   SCEI      SINO CLEAN ENERGY INC  82936G20  2010-06-14\n",
       "80788   9999   93436   TSLA           TESLA MOTORS INC  88160R10  2010-06-29\n",
       "80789   9999   93436   TSLA                  TESLA INC  88160R10  2017-02-02\n",
       "\n",
       "[80790 rows x 6 columns]"
      ]
     },
     "execution_count": 7,
     "metadata": {},
     "output_type": "execute_result"
    }
   ],
   "source": [
    "info_crsp"
   ]
  },
  {
   "cell_type": "code",
   "execution_count": 8,
   "id": "f0536c12-7038-4f35-9a1f-5c407501113b",
   "metadata": {},
   "outputs": [
    {
     "data": {
      "text/html": [
       "<div>\n",
       "<style scoped>\n",
       "    .dataframe tbody tr th:only-of-type {\n",
       "        vertical-align: middle;\n",
       "    }\n",
       "\n",
       "    .dataframe tbody tr th {\n",
       "        vertical-align: top;\n",
       "    }\n",
       "\n",
       "    .dataframe thead th {\n",
       "        text-align: right;\n",
       "    }\n",
       "</style>\n",
       "<table border=\"1\" class=\"dataframe\">\n",
       "  <thead>\n",
       "    <tr style=\"text-align: right;\">\n",
       "      <th></th>\n",
       "      <th>siccd</th>\n",
       "      <th>permno</th>\n",
       "      <th>ticker</th>\n",
       "      <th>comnam</th>\n",
       "      <th>cusip</th>\n",
       "      <th>namedt</th>\n",
       "    </tr>\n",
       "  </thead>\n",
       "  <tbody>\n",
       "    <tr>\n",
       "      <th>0</th>\n",
       "      <td>3990</td>\n",
       "      <td>10000</td>\n",
       "      <td>OMFGA</td>\n",
       "      <td>OPTIMUM MANUFACTURING INC</td>\n",
       "      <td>68391610</td>\n",
       "      <td>1986-01-07</td>\n",
       "    </tr>\n",
       "    <tr>\n",
       "      <th>1</th>\n",
       "      <td>4920</td>\n",
       "      <td>10001</td>\n",
       "      <td>GFGC</td>\n",
       "      <td>GREAT FALLS GAS CO</td>\n",
       "      <td>36720410</td>\n",
       "      <td>1986-01-09</td>\n",
       "    </tr>\n",
       "    <tr>\n",
       "      <th>2</th>\n",
       "      <td>4920</td>\n",
       "      <td>10001</td>\n",
       "      <td>EWST</td>\n",
       "      <td>ENERGY WEST INC</td>\n",
       "      <td>36720410</td>\n",
       "      <td>1993-11-22</td>\n",
       "    </tr>\n",
       "    <tr>\n",
       "      <th>3</th>\n",
       "      <td>4920</td>\n",
       "      <td>10001</td>\n",
       "      <td>EWST</td>\n",
       "      <td>ENERGY WEST INC</td>\n",
       "      <td>36720410</td>\n",
       "      <td>2008-02-05</td>\n",
       "    </tr>\n",
       "    <tr>\n",
       "      <th>4</th>\n",
       "      <td>4920</td>\n",
       "      <td>10001</td>\n",
       "      <td>EGAS</td>\n",
       "      <td>ENERGY INC</td>\n",
       "      <td>36720410</td>\n",
       "      <td>2009-08-04</td>\n",
       "    </tr>\n",
       "    <tr>\n",
       "      <th>...</th>\n",
       "      <td>...</td>\n",
       "      <td>...</td>\n",
       "      <td>...</td>\n",
       "      <td>...</td>\n",
       "      <td>...</td>\n",
       "      <td>...</td>\n",
       "    </tr>\n",
       "    <tr>\n",
       "      <th>80785</th>\n",
       "      <td>9999</td>\n",
       "      <td>93433</td>\n",
       "      <td>VLTC</td>\n",
       "      <td>VOLTARI CORP</td>\n",
       "      <td>92870X30</td>\n",
       "      <td>2013-04-24</td>\n",
       "    </tr>\n",
       "    <tr>\n",
       "      <th>80786</th>\n",
       "      <td>9999</td>\n",
       "      <td>93434</td>\n",
       "      <td>SANW</td>\n",
       "      <td>S &amp; W SEED CO</td>\n",
       "      <td>78513510</td>\n",
       "      <td>2010-06-14</td>\n",
       "    </tr>\n",
       "    <tr>\n",
       "      <th>80787</th>\n",
       "      <td>6163</td>\n",
       "      <td>93435</td>\n",
       "      <td>SCEI</td>\n",
       "      <td>SINO CLEAN ENERGY INC</td>\n",
       "      <td>82936G20</td>\n",
       "      <td>2010-06-14</td>\n",
       "    </tr>\n",
       "    <tr>\n",
       "      <th>80788</th>\n",
       "      <td>9999</td>\n",
       "      <td>93436</td>\n",
       "      <td>TSLA</td>\n",
       "      <td>TESLA MOTORS INC</td>\n",
       "      <td>88160R10</td>\n",
       "      <td>2010-06-29</td>\n",
       "    </tr>\n",
       "    <tr>\n",
       "      <th>80789</th>\n",
       "      <td>9999</td>\n",
       "      <td>93436</td>\n",
       "      <td>TSLA</td>\n",
       "      <td>TESLA INC</td>\n",
       "      <td>88160R10</td>\n",
       "      <td>2017-02-02</td>\n",
       "    </tr>\n",
       "  </tbody>\n",
       "</table>\n",
       "<p>80790 rows × 6 columns</p>\n",
       "</div>"
      ],
      "text/plain": [
       "       siccd  permno ticker                     comnam     cusip     namedt\n",
       "0       3990   10000  OMFGA  OPTIMUM MANUFACTURING INC  68391610 1986-01-07\n",
       "1       4920   10001   GFGC         GREAT FALLS GAS CO  36720410 1986-01-09\n",
       "2       4920   10001   EWST            ENERGY WEST INC  36720410 1993-11-22\n",
       "3       4920   10001   EWST            ENERGY WEST INC  36720410 2008-02-05\n",
       "4       4920   10001   EGAS                 ENERGY INC  36720410 2009-08-04\n",
       "...      ...     ...    ...                        ...       ...        ...\n",
       "80785   9999   93433   VLTC               VOLTARI CORP  92870X30 2013-04-24\n",
       "80786   9999   93434   SANW              S & W SEED CO  78513510 2010-06-14\n",
       "80787   6163   93435   SCEI      SINO CLEAN ENERGY INC  82936G20 2010-06-14\n",
       "80788   9999   93436   TSLA           TESLA MOTORS INC  88160R10 2010-06-29\n",
       "80789   9999   93436   TSLA                  TESLA INC  88160R10 2017-02-02\n",
       "\n",
       "[80790 rows x 6 columns]"
      ]
     },
     "execution_count": 8,
     "metadata": {},
     "output_type": "execute_result"
    }
   ],
   "source": [
    "#5.change the format of 'namedt' to Panda’s date format\n",
    "info_crsp['namedt']= pd.to_datetime(info_crsp['namedt'])\n",
    "info_crsp"
   ]
  },
  {
   "cell_type": "code",
   "execution_count": 9,
   "id": "0c1fa58f-9c85-4aaa-9125-9a3b091201fa",
   "metadata": {},
   "outputs": [
    {
     "name": "stdout",
     "output_type": "stream",
     "text": [
      "<class 'pandas.core.series.Series'>\n",
      "RangeIndex: 80790 entries, 0 to 80789\n",
      "Series name: namedt\n",
      "Non-Null Count  Dtype         \n",
      "--------------  -----         \n",
      "80790 non-null  datetime64[ns]\n",
      "dtypes: datetime64[ns](1)\n",
      "memory usage: 631.3 KB\n"
     ]
    }
   ],
   "source": [
    "info_crsp['namedt'].info()"
   ]
  },
  {
   "cell_type": "code",
   "execution_count": 10,
   "id": "fb0a8832-1700-4c11-8e59-72cd584103f8",
   "metadata": {},
   "outputs": [
    {
     "name": "stdout",
     "output_type": "stream",
     "text": [
      "<class 'pandas.core.frame.DataFrame'>\n",
      "RangeIndex: 80790 entries, 0 to 80789\n",
      "Data columns (total 6 columns):\n",
      " #   Column  Non-Null Count  Dtype         \n",
      "---  ------  --------------  -----         \n",
      " 0   siccd   80790 non-null  int64         \n",
      " 1   permno  80790 non-null  int64         \n",
      " 2   ticker  75849 non-null  object        \n",
      " 3   comnam  80790 non-null  object        \n",
      " 4   cusip   80790 non-null  object        \n",
      " 5   namedt  80790 non-null  datetime64[ns]\n",
      "dtypes: datetime64[ns](1), int64(2), object(3)\n",
      "memory usage: 3.7+ MB\n"
     ]
    }
   ],
   "source": [
    "#6. (print screen; a print screen file should be pasted in your PDF file) using ONE Pandas function, show the information of the data including the list of columns, data types of columns, the number of rows, memory etc. \n",
    "#(hint: check in-class8 the last question you solved)\n",
    "info_crsp.info()"
   ]
  },
  {
   "cell_type": "code",
   "execution_count": 11,
   "id": "84a6eea8-5f15-4af9-84ad-1cabd509d907",
   "metadata": {},
   "outputs": [
    {
     "data": {
      "text/plain": [
       "True     43014\n",
       "False    37776\n",
       "Name: count, dtype: int64"
      ]
     },
     "execution_count": 11,
     "metadata": {},
     "output_type": "execute_result"
    }
   ],
   "source": [
    "#7.check duplicates based on 'permno’  (i.e., count the total number of duplicates)\n",
    "info_crsp.duplicated('permno').value_counts()"
   ]
  },
  {
   "cell_type": "code",
   "execution_count": 12,
   "id": "b60335bb-a2a7-45b7-ba7f-1037b4056a86",
   "metadata": {},
   "outputs": [
    {
     "data": {
      "text/html": [
       "<div>\n",
       "<style scoped>\n",
       "    .dataframe tbody tr th:only-of-type {\n",
       "        vertical-align: middle;\n",
       "    }\n",
       "\n",
       "    .dataframe tbody tr th {\n",
       "        vertical-align: top;\n",
       "    }\n",
       "\n",
       "    .dataframe thead th {\n",
       "        text-align: right;\n",
       "    }\n",
       "</style>\n",
       "<table border=\"1\" class=\"dataframe\">\n",
       "  <thead>\n",
       "    <tr style=\"text-align: right;\">\n",
       "      <th></th>\n",
       "      <th>siccd</th>\n",
       "      <th>permno</th>\n",
       "      <th>ticker</th>\n",
       "      <th>comnam</th>\n",
       "      <th>cusip</th>\n",
       "      <th>namedt</th>\n",
       "    </tr>\n",
       "  </thead>\n",
       "  <tbody>\n",
       "    <tr>\n",
       "      <th>0</th>\n",
       "      <td>3990</td>\n",
       "      <td>10000</td>\n",
       "      <td>OMFGA</td>\n",
       "      <td>OPTIMUM MANUFACTURING INC</td>\n",
       "      <td>68391610</td>\n",
       "      <td>1986-01-07</td>\n",
       "    </tr>\n",
       "    <tr>\n",
       "      <th>1</th>\n",
       "      <td>4920</td>\n",
       "      <td>10001</td>\n",
       "      <td>GFGC</td>\n",
       "      <td>GREAT FALLS GAS CO</td>\n",
       "      <td>36720410</td>\n",
       "      <td>1986-01-09</td>\n",
       "    </tr>\n",
       "    <tr>\n",
       "      <th>2</th>\n",
       "      <td>4920</td>\n",
       "      <td>10001</td>\n",
       "      <td>EWST</td>\n",
       "      <td>ENERGY WEST INC</td>\n",
       "      <td>36720410</td>\n",
       "      <td>1993-11-22</td>\n",
       "    </tr>\n",
       "    <tr>\n",
       "      <th>3</th>\n",
       "      <td>4920</td>\n",
       "      <td>10001</td>\n",
       "      <td>EWST</td>\n",
       "      <td>ENERGY WEST INC</td>\n",
       "      <td>36720410</td>\n",
       "      <td>2008-02-05</td>\n",
       "    </tr>\n",
       "    <tr>\n",
       "      <th>4</th>\n",
       "      <td>4920</td>\n",
       "      <td>10001</td>\n",
       "      <td>EGAS</td>\n",
       "      <td>ENERGY INC</td>\n",
       "      <td>36720410</td>\n",
       "      <td>2009-08-04</td>\n",
       "    </tr>\n",
       "    <tr>\n",
       "      <th>...</th>\n",
       "      <td>...</td>\n",
       "      <td>...</td>\n",
       "      <td>...</td>\n",
       "      <td>...</td>\n",
       "      <td>...</td>\n",
       "      <td>...</td>\n",
       "    </tr>\n",
       "    <tr>\n",
       "      <th>80785</th>\n",
       "      <td>9999</td>\n",
       "      <td>93433</td>\n",
       "      <td>VLTC</td>\n",
       "      <td>VOLTARI CORP</td>\n",
       "      <td>92870X30</td>\n",
       "      <td>2013-04-24</td>\n",
       "    </tr>\n",
       "    <tr>\n",
       "      <th>80786</th>\n",
       "      <td>9999</td>\n",
       "      <td>93434</td>\n",
       "      <td>SANW</td>\n",
       "      <td>S &amp; W SEED CO</td>\n",
       "      <td>78513510</td>\n",
       "      <td>2010-06-14</td>\n",
       "    </tr>\n",
       "    <tr>\n",
       "      <th>80787</th>\n",
       "      <td>6163</td>\n",
       "      <td>93435</td>\n",
       "      <td>SCEI</td>\n",
       "      <td>SINO CLEAN ENERGY INC</td>\n",
       "      <td>82936G20</td>\n",
       "      <td>2010-06-14</td>\n",
       "    </tr>\n",
       "    <tr>\n",
       "      <th>80788</th>\n",
       "      <td>9999</td>\n",
       "      <td>93436</td>\n",
       "      <td>TSLA</td>\n",
       "      <td>TESLA MOTORS INC</td>\n",
       "      <td>88160R10</td>\n",
       "      <td>2010-06-29</td>\n",
       "    </tr>\n",
       "    <tr>\n",
       "      <th>80789</th>\n",
       "      <td>9999</td>\n",
       "      <td>93436</td>\n",
       "      <td>TSLA</td>\n",
       "      <td>TESLA INC</td>\n",
       "      <td>88160R10</td>\n",
       "      <td>2017-02-02</td>\n",
       "    </tr>\n",
       "  </tbody>\n",
       "</table>\n",
       "<p>80790 rows × 6 columns</p>\n",
       "</div>"
      ],
      "text/plain": [
       "       siccd  permno ticker                     comnam     cusip     namedt\n",
       "0       3990   10000  OMFGA  OPTIMUM MANUFACTURING INC  68391610 1986-01-07\n",
       "1       4920   10001   GFGC         GREAT FALLS GAS CO  36720410 1986-01-09\n",
       "2       4920   10001   EWST            ENERGY WEST INC  36720410 1993-11-22\n",
       "3       4920   10001   EWST            ENERGY WEST INC  36720410 2008-02-05\n",
       "4       4920   10001   EGAS                 ENERGY INC  36720410 2009-08-04\n",
       "...      ...     ...    ...                        ...       ...        ...\n",
       "80785   9999   93433   VLTC               VOLTARI CORP  92870X30 2013-04-24\n",
       "80786   9999   93434   SANW              S & W SEED CO  78513510 2010-06-14\n",
       "80787   6163   93435   SCEI      SINO CLEAN ENERGY INC  82936G20 2010-06-14\n",
       "80788   9999   93436   TSLA           TESLA MOTORS INC  88160R10 2010-06-29\n",
       "80789   9999   93436   TSLA                  TESLA INC  88160R10 2017-02-02\n",
       "\n",
       "[80790 rows x 6 columns]"
      ]
     },
     "execution_count": 12,
     "metadata": {},
     "output_type": "execute_result"
    }
   ],
   "source": [
    "#8.sort the data based on 'permno’ and 'namedt' (hint: sort_values())\n",
    "info_crsp = info_crsp.sort_values(by=['permno', 'namedt'])\n",
    "info_crsp"
   ]
  },
  {
   "cell_type": "code",
   "execution_count": 13,
   "id": "d0652e34-e865-455b-b5f1-084adb746f9f",
   "metadata": {},
   "outputs": [
    {
     "data": {
      "text/html": [
       "<div>\n",
       "<style scoped>\n",
       "    .dataframe tbody tr th:only-of-type {\n",
       "        vertical-align: middle;\n",
       "    }\n",
       "\n",
       "    .dataframe tbody tr th {\n",
       "        vertical-align: top;\n",
       "    }\n",
       "\n",
       "    .dataframe thead th {\n",
       "        text-align: right;\n",
       "    }\n",
       "</style>\n",
       "<table border=\"1\" class=\"dataframe\">\n",
       "  <thead>\n",
       "    <tr style=\"text-align: right;\">\n",
       "      <th></th>\n",
       "      <th>siccd</th>\n",
       "      <th>permno</th>\n",
       "      <th>ticker</th>\n",
       "      <th>comnam</th>\n",
       "      <th>cusip</th>\n",
       "      <th>namedt</th>\n",
       "    </tr>\n",
       "  </thead>\n",
       "  <tbody>\n",
       "    <tr>\n",
       "      <th>0</th>\n",
       "      <td>3990</td>\n",
       "      <td>10000</td>\n",
       "      <td>OMFGA</td>\n",
       "      <td>OPTIMUM MANUFACTURING INC</td>\n",
       "      <td>68391610</td>\n",
       "      <td>1986-01-07</td>\n",
       "    </tr>\n",
       "    <tr>\n",
       "      <th>6</th>\n",
       "      <td>4925</td>\n",
       "      <td>10001</td>\n",
       "      <td>EGAS</td>\n",
       "      <td>GAS NATURAL INC</td>\n",
       "      <td>36720410</td>\n",
       "      <td>2010-07-09</td>\n",
       "    </tr>\n",
       "    <tr>\n",
       "      <th>10</th>\n",
       "      <td>6020</td>\n",
       "      <td>10002</td>\n",
       "      <td>BTFG</td>\n",
       "      <td>BANCTRUST FINANCIAL GROUP INC</td>\n",
       "      <td>05978R10</td>\n",
       "      <td>2002-05-15</td>\n",
       "    </tr>\n",
       "    <tr>\n",
       "      <th>12</th>\n",
       "      <td>6020</td>\n",
       "      <td>10003</td>\n",
       "      <td>GCBK</td>\n",
       "      <td>GREAT COUNTRY BK ASONIA CT</td>\n",
       "      <td>39031810</td>\n",
       "      <td>1987-04-01</td>\n",
       "    </tr>\n",
       "    <tr>\n",
       "      <th>13</th>\n",
       "      <td>5330</td>\n",
       "      <td>10004</td>\n",
       "      <td>CLSO</td>\n",
       "      <td>CLOSE OUTS PLUS INC</td>\n",
       "      <td>18906310</td>\n",
       "      <td>1986-01-15</td>\n",
       "    </tr>\n",
       "    <tr>\n",
       "      <th>...</th>\n",
       "      <td>...</td>\n",
       "      <td>...</td>\n",
       "      <td>...</td>\n",
       "      <td>...</td>\n",
       "      <td>...</td>\n",
       "      <td>...</td>\n",
       "    </tr>\n",
       "    <tr>\n",
       "      <th>80782</th>\n",
       "      <td>7389</td>\n",
       "      <td>93432</td>\n",
       "      <td>JGBO</td>\n",
       "      <td>JIANGBO PHARMACEUTICALS INC</td>\n",
       "      <td>47737R10</td>\n",
       "      <td>2010-06-08</td>\n",
       "    </tr>\n",
       "    <tr>\n",
       "      <th>80785</th>\n",
       "      <td>9999</td>\n",
       "      <td>93433</td>\n",
       "      <td>VLTC</td>\n",
       "      <td>VOLTARI CORP</td>\n",
       "      <td>92870X30</td>\n",
       "      <td>2013-04-24</td>\n",
       "    </tr>\n",
       "    <tr>\n",
       "      <th>80786</th>\n",
       "      <td>9999</td>\n",
       "      <td>93434</td>\n",
       "      <td>SANW</td>\n",
       "      <td>S &amp; W SEED CO</td>\n",
       "      <td>78513510</td>\n",
       "      <td>2010-06-14</td>\n",
       "    </tr>\n",
       "    <tr>\n",
       "      <th>80787</th>\n",
       "      <td>6163</td>\n",
       "      <td>93435</td>\n",
       "      <td>SCEI</td>\n",
       "      <td>SINO CLEAN ENERGY INC</td>\n",
       "      <td>82936G20</td>\n",
       "      <td>2010-06-14</td>\n",
       "    </tr>\n",
       "    <tr>\n",
       "      <th>80789</th>\n",
       "      <td>9999</td>\n",
       "      <td>93436</td>\n",
       "      <td>TSLA</td>\n",
       "      <td>TESLA INC</td>\n",
       "      <td>88160R10</td>\n",
       "      <td>2017-02-02</td>\n",
       "    </tr>\n",
       "  </tbody>\n",
       "</table>\n",
       "<p>37776 rows × 6 columns</p>\n",
       "</div>"
      ],
      "text/plain": [
       "       siccd  permno ticker                         comnam     cusip  \\\n",
       "0       3990   10000  OMFGA      OPTIMUM MANUFACTURING INC  68391610   \n",
       "6       4925   10001   EGAS                GAS NATURAL INC  36720410   \n",
       "10      6020   10002   BTFG  BANCTRUST FINANCIAL GROUP INC  05978R10   \n",
       "12      6020   10003   GCBK     GREAT COUNTRY BK ASONIA CT  39031810   \n",
       "13      5330   10004   CLSO            CLOSE OUTS PLUS INC  18906310   \n",
       "...      ...     ...    ...                            ...       ...   \n",
       "80782   7389   93432   JGBO    JIANGBO PHARMACEUTICALS INC  47737R10   \n",
       "80785   9999   93433   VLTC                   VOLTARI CORP  92870X30   \n",
       "80786   9999   93434   SANW                  S & W SEED CO  78513510   \n",
       "80787   6163   93435   SCEI          SINO CLEAN ENERGY INC  82936G20   \n",
       "80789   9999   93436   TSLA                      TESLA INC  88160R10   \n",
       "\n",
       "          namedt  \n",
       "0     1986-01-07  \n",
       "6     2010-07-09  \n",
       "10    2002-05-15  \n",
       "12    1987-04-01  \n",
       "13    1986-01-15  \n",
       "...          ...  \n",
       "80782 2010-06-08  \n",
       "80785 2013-04-24  \n",
       "80786 2010-06-14  \n",
       "80787 2010-06-14  \n",
       "80789 2017-02-02  \n",
       "\n",
       "[37776 rows x 6 columns]"
      ]
     },
     "execution_count": 13,
     "metadata": {},
     "output_type": "execute_result"
    }
   ],
   "source": [
    "#9. Keep only the last one if there are duplicates based on 'permno’\n",
    "info_crsp=info_crsp.drop_duplicates('permno',keep='last')\n",
    "info_crsp"
   ]
  },
  {
   "cell_type": "code",
   "execution_count": 14,
   "id": "dcb936c8-f848-4c15-8dc9-8e8b9cefd622",
   "metadata": {},
   "outputs": [
    {
     "data": {
      "text/plain": [
       "False    37776\n",
       "Name: count, dtype: int64"
      ]
     },
     "execution_count": 14,
     "metadata": {},
     "output_type": "execute_result"
    }
   ],
   "source": [
    "#10.check again if there are duplicates based on all columns\n",
    "info_crsp.duplicated('permno').value_counts()"
   ]
  },
  {
   "cell_type": "code",
   "execution_count": 15,
   "id": "26ad867c-5ac6-429e-82df-1a07a0d5f580",
   "metadata": {},
   "outputs": [],
   "source": [
    "#11.(print screen) using ONE Pandas function, show the information of the data, including the list of columns, data types of columns, \n",
    "#the number of rows, memory, etc. (note: the data from question 6 is BEFORE you delete duplicates, and this data is AFTER you delete duplicates)"
   ]
  },
  {
   "cell_type": "code",
   "execution_count": 16,
   "id": "e741dc1c-b256-4d46-8a3a-791a5fce6ead",
   "metadata": {},
   "outputs": [
    {
     "name": "stdout",
     "output_type": "stream",
     "text": [
      "<class 'pandas.core.frame.DataFrame'>\n",
      "Index: 37776 entries, 0 to 80789\n",
      "Data columns (total 6 columns):\n",
      " #   Column  Non-Null Count  Dtype         \n",
      "---  ------  --------------  -----         \n",
      " 0   siccd   37776 non-null  int64         \n",
      " 1   permno  37776 non-null  int64         \n",
      " 2   ticker  36763 non-null  object        \n",
      " 3   comnam  37776 non-null  object        \n",
      " 4   cusip   37776 non-null  object        \n",
      " 5   namedt  37776 non-null  datetime64[ns]\n",
      "dtypes: datetime64[ns](1), int64(2), object(3)\n",
      "memory usage: 2.0+ MB\n"
     ]
    }
   ],
   "source": [
    "info_crsp.info()"
   ]
  },
  {
   "cell_type": "code",
   "execution_count": 17,
   "id": "a920ab54-5694-4f98-8d0c-76c86b703fe9",
   "metadata": {},
   "outputs": [
    {
     "data": {
      "text/plain": [
       "37776"
      ]
     },
     "execution_count": 17,
     "metadata": {},
     "output_type": "execute_result"
    }
   ],
   "source": [
    "#12.(print screen) Show the unique number of companies (hint: unique(); What is the company indicator?)\n",
    "unique_companies = info_crsp['permno'].nunique()\n",
    "unique_companies"
   ]
  },
  {
   "cell_type": "code",
   "execution_count": 18,
   "id": "67252ab2-d7cf-49d9-a07f-7e031f84792a",
   "metadata": {},
   "outputs": [],
   "source": [
    "#the data collected varies as it collects info of different firms at different time, so it is cross-sectional.\n",
    "# long format is a way of structuring data where each row represents a single observation for a single variable, and each column represents a variable.\n",
    "#long format is used in data science and statistical modeling.\n",
    "# Wide format data is used to organize data where each row represents a unique entity, and each variable or measurement is represented in its own column.\n",
    "#wide format is used for showcasing a small spreadsheet or data entry\n",
    "# A format including both “long and wide” is called panel data (cross-sectional time series)"
   ]
  },
  {
   "cell_type": "code",
   "execution_count": 19,
   "id": "baafc2d2-8d70-4c6b-8f5a-91bcad349b9d",
   "metadata": {},
   "outputs": [],
   "source": [
    "#the data used in cross-sectional here with rows representing different entities at different times. \n",
    "#the data containing only many activities of the firm then it is time-series and if it would have contained more entity then it is panel data.\n",
    "# this is a cross-sectional data."
   ]
  },
  {
   "cell_type": "code",
   "execution_count": 20,
   "id": "cbe57ede-db5b-442b-aafd-feed52d94c28",
   "metadata": {},
   "outputs": [],
   "source": [
    "#1.subset “permno” from the data you created from Part 1.\n",
    "#Part 2: Export the company basic info data to collect the abnormal return data via WRDS.\n",
    "\n",
    "crsp_out = info_crsp[['permno']]"
   ]
  },
  {
   "cell_type": "code",
   "execution_count": 21,
   "id": "e21a698d-2aca-49b3-99ad-671e363f06d2",
   "metadata": {},
   "outputs": [
    {
     "name": "stderr",
     "output_type": "stream",
     "text": [
      "/var/folders/3p/z9wtcy0n5gn8qfr58l89gwsh0000gn/T/ipykernel_43804/1092973538.py:3: SettingWithCopyWarning: \n",
      "A value is trying to be set on a copy of a slice from a DataFrame.\n",
      "Try using .loc[row_indexer,col_indexer] = value instead\n",
      "\n",
      "See the caveats in the documentation: https://pandas.pydata.org/pandas-docs/stable/user_guide/indexing.html#returning-a-view-versus-a-copy\n",
      "  crsp_out['eventdate'] = '2022-02-24'\n"
     ]
    }
   ],
   "source": [
    "#2.add your event date\n",
    "\n",
    "crsp_out['eventdate'] = '2022-02-24'  "
   ]
  },
  {
   "cell_type": "code",
   "execution_count": 22,
   "id": "7937e814-e935-4f0e-973f-6571c0971940",
   "metadata": {},
   "outputs": [
    {
     "data": {
      "text/html": [
       "<div>\n",
       "<style scoped>\n",
       "    .dataframe tbody tr th:only-of-type {\n",
       "        vertical-align: middle;\n",
       "    }\n",
       "\n",
       "    .dataframe tbody tr th {\n",
       "        vertical-align: top;\n",
       "    }\n",
       "\n",
       "    .dataframe thead th {\n",
       "        text-align: right;\n",
       "    }\n",
       "</style>\n",
       "<table border=\"1\" class=\"dataframe\">\n",
       "  <thead>\n",
       "    <tr style=\"text-align: right;\">\n",
       "      <th></th>\n",
       "      <th>permno</th>\n",
       "      <th>eventdate</th>\n",
       "    </tr>\n",
       "  </thead>\n",
       "  <tbody>\n",
       "    <tr>\n",
       "      <th>0</th>\n",
       "      <td>10000</td>\n",
       "      <td>2022-02-24</td>\n",
       "    </tr>\n",
       "    <tr>\n",
       "      <th>6</th>\n",
       "      <td>10001</td>\n",
       "      <td>2022-02-24</td>\n",
       "    </tr>\n",
       "    <tr>\n",
       "      <th>10</th>\n",
       "      <td>10002</td>\n",
       "      <td>2022-02-24</td>\n",
       "    </tr>\n",
       "    <tr>\n",
       "      <th>12</th>\n",
       "      <td>10003</td>\n",
       "      <td>2022-02-24</td>\n",
       "    </tr>\n",
       "    <tr>\n",
       "      <th>13</th>\n",
       "      <td>10004</td>\n",
       "      <td>2022-02-24</td>\n",
       "    </tr>\n",
       "  </tbody>\n",
       "</table>\n",
       "</div>"
      ],
      "text/plain": [
       "    permno   eventdate\n",
       "0    10000  2022-02-24\n",
       "6    10001  2022-02-24\n",
       "10   10002  2022-02-24\n",
       "12   10003  2022-02-24\n",
       "13   10004  2022-02-24"
      ]
     },
     "execution_count": 22,
     "metadata": {},
     "output_type": "execute_result"
    }
   ],
   "source": [
    "#3.(print screen) Show the top five row of the data\n",
    "crsp_out.head(5)"
   ]
  },
  {
   "cell_type": "code",
   "execution_count": 23,
   "id": "297cda6c-0d67-41a4-9515-74a04c3ba7bf",
   "metadata": {},
   "outputs": [],
   "source": [
    "#4.export the data to your local computer."
   ]
  },
  {
   "cell_type": "code",
   "execution_count": 24,
   "id": "95c9d4a9-74dd-431f-9cb8-ae9eed51ace7",
   "metadata": {},
   "outputs": [],
   "source": [
    "loc=r'C:\\Users\\Lenovo\\Downloads'"
   ]
  },
  {
   "cell_type": "code",
   "execution_count": 25,
   "id": "658d328e-199d-4f0e-a59e-053101024825",
   "metadata": {},
   "outputs": [],
   "source": [
    "fname=loc+'\\\\Energy_permno_test.txt'"
   ]
  },
  {
   "cell_type": "code",
   "execution_count": 26,
   "id": "3b47bb3e-633a-4115-8cb2-c10d2c2f4a07",
   "metadata": {},
   "outputs": [],
   "source": [
    "crsp_out.to_csv(fname, header=False, index=False, sep=' ')"
   ]
  },
  {
   "cell_type": "code",
   "execution_count": 27,
   "id": "ce873ca1-ce19-4fa9-87cf-536ad014faf4",
   "metadata": {},
   "outputs": [],
   "source": [
    "#PART-3\n",
    "#We will be downloading the abnormal return data from WRDS and post the data on WRDS and read it from GitHub"
   ]
  },
  {
   "cell_type": "code",
   "execution_count": 28,
   "id": "55f0b1a1-0050-42f2-b1a0-ae6ca2fcebc8",
   "metadata": {},
   "outputs": [],
   "source": [
    "#1.read your file from your GitHub\n",
    "\n",
    "url='https://github.com/ARIFFKHANAMIR/energy3/blob/main/energry3.csv?raw=True'"
   ]
  },
  {
   "cell_type": "code",
   "execution_count": 29,
   "id": "5f426f0d-d78d-4db9-92e4-f7c7ff28dd50",
   "metadata": {},
   "outputs": [
    {
     "name": "stdout",
     "output_type": "stream",
     "text": [
      "<class 'pandas.core.frame.DataFrame'>\n",
      "RangeIndex: 8800 entries, 0 to 8799\n",
      "Data columns (total 8 columns):\n",
      " #   Column     Non-Null Count  Dtype  \n",
      "---  ------     --------------  -----  \n",
      " 0   Model      8800 non-null   object \n",
      " 1   permno     8800 non-null   int64  \n",
      " 2   evtdate    8800 non-null   object \n",
      " 3   cret       8799 non-null   float64\n",
      " 4   car        8799 non-null   float64\n",
      " 5   bhar       8799 non-null   float64\n",
      " 6   nrets      8800 non-null   int64  \n",
      " 7   nrets_est  8800 non-null   int64  \n",
      "dtypes: float64(3), int64(3), object(2)\n",
      "memory usage: 550.1+ KB\n"
     ]
    }
   ],
   "source": [
    "abcar=pd.read_csv(url)\n",
    "abcar.info()"
   ]
  },
  {
   "cell_type": "code",
   "execution_count": 30,
   "id": "eb87897e-53b0-4966-b127-3bff296b9d6b",
   "metadata": {},
   "outputs": [
    {
     "data": {
      "text/html": [
       "<div>\n",
       "<style scoped>\n",
       "    .dataframe tbody tr th:only-of-type {\n",
       "        vertical-align: middle;\n",
       "    }\n",
       "\n",
       "    .dataframe tbody tr th {\n",
       "        vertical-align: top;\n",
       "    }\n",
       "\n",
       "    .dataframe thead th {\n",
       "        text-align: right;\n",
       "    }\n",
       "</style>\n",
       "<table border=\"1\" class=\"dataframe\">\n",
       "  <thead>\n",
       "    <tr style=\"text-align: right;\">\n",
       "      <th></th>\n",
       "      <th>Model</th>\n",
       "      <th>permno</th>\n",
       "      <th>evtdate</th>\n",
       "      <th>cret</th>\n",
       "      <th>car</th>\n",
       "      <th>bhar</th>\n",
       "      <th>nrets</th>\n",
       "      <th>nrets_est</th>\n",
       "    </tr>\n",
       "  </thead>\n",
       "  <tbody>\n",
       "    <tr>\n",
       "      <th>0</th>\n",
       "      <td>Market-Adjusted Model</td>\n",
       "      <td>10026</td>\n",
       "      <td>2022-02-24</td>\n",
       "      <td>-0.017184</td>\n",
       "      <td>0.042059</td>\n",
       "      <td>0.040689</td>\n",
       "      <td>21</td>\n",
       "      <td>100</td>\n",
       "    </tr>\n",
       "    <tr>\n",
       "      <th>1</th>\n",
       "      <td>Market-Adjusted Model</td>\n",
       "      <td>10028</td>\n",
       "      <td>2022-02-24</td>\n",
       "      <td>0.012136</td>\n",
       "      <td>0.069834</td>\n",
       "      <td>0.070009</td>\n",
       "      <td>21</td>\n",
       "      <td>100</td>\n",
       "    </tr>\n",
       "    <tr>\n",
       "      <th>2</th>\n",
       "      <td>Market-Adjusted Model</td>\n",
       "      <td>10032</td>\n",
       "      <td>2022-02-24</td>\n",
       "      <td>0.047353</td>\n",
       "      <td>0.105853</td>\n",
       "      <td>0.105226</td>\n",
       "      <td>21</td>\n",
       "      <td>100</td>\n",
       "    </tr>\n",
       "    <tr>\n",
       "      <th>3</th>\n",
       "      <td>Market-Adjusted Model</td>\n",
       "      <td>10044</td>\n",
       "      <td>2022-02-24</td>\n",
       "      <td>-0.069034</td>\n",
       "      <td>-0.010399</td>\n",
       "      <td>-0.011161</td>\n",
       "      <td>21</td>\n",
       "      <td>100</td>\n",
       "    </tr>\n",
       "    <tr>\n",
       "      <th>4</th>\n",
       "      <td>Market-Adjusted Model</td>\n",
       "      <td>10051</td>\n",
       "      <td>2022-02-24</td>\n",
       "      <td>0.115951</td>\n",
       "      <td>0.171434</td>\n",
       "      <td>0.173823</td>\n",
       "      <td>21</td>\n",
       "      <td>100</td>\n",
       "    </tr>\n",
       "  </tbody>\n",
       "</table>\n",
       "</div>"
      ],
      "text/plain": [
       "                   Model  permno     evtdate      cret       car      bhar  \\\n",
       "0  Market-Adjusted Model   10026  2022-02-24 -0.017184  0.042059  0.040689   \n",
       "1  Market-Adjusted Model   10028  2022-02-24  0.012136  0.069834  0.070009   \n",
       "2  Market-Adjusted Model   10032  2022-02-24  0.047353  0.105853  0.105226   \n",
       "3  Market-Adjusted Model   10044  2022-02-24 -0.069034 -0.010399 -0.011161   \n",
       "4  Market-Adjusted Model   10051  2022-02-24  0.115951  0.171434  0.173823   \n",
       "\n",
       "   nrets  nrets_est  \n",
       "0     21        100  \n",
       "1     21        100  \n",
       "2     21        100  \n",
       "3     21        100  \n",
       "4     21        100  "
      ]
     },
     "execution_count": 30,
     "metadata": {},
     "output_type": "execute_result"
    }
   ],
   "source": [
    "#2.(print screen) show the first five row of the data\n",
    "abcar.head(5)"
   ]
  },
  {
   "cell_type": "code",
   "execution_count": 31,
   "id": "3ed3c439-18c5-4742-95d6-22e810cfb8e6",
   "metadata": {},
   "outputs": [],
   "source": [
    "# this represent a cross-sectional data as it reperesent a multiple entities at specific time."
   ]
  },
  {
   "cell_type": "code",
   "execution_count": 32,
   "id": "66dfa535-ff64-4a7d-97ce-92ae32fdd90e",
   "metadata": {},
   "outputs": [],
   "source": [
    "#now we check for duplicates and nunique companies using permno value"
   ]
  },
  {
   "cell_type": "code",
   "execution_count": 33,
   "id": "26c13481-1695-40df-8801-313bf7dcf148",
   "metadata": {},
   "outputs": [
    {
     "data": {
      "text/plain": [
       "0       False\n",
       "1       False\n",
       "2       False\n",
       "3       False\n",
       "4       False\n",
       "        ...  \n",
       "8795    False\n",
       "8796    False\n",
       "8797    False\n",
       "8798    False\n",
       "8799    False\n",
       "Length: 8800, dtype: bool"
      ]
     },
     "execution_count": 33,
     "metadata": {},
     "output_type": "execute_result"
    }
   ],
   "source": [
    "#3.check duplicates using “permno”\n",
    "abcar.duplicated(['permno'])"
   ]
  },
  {
   "cell_type": "code",
   "execution_count": 34,
   "id": "e86ccf9e-8671-45b7-bdfd-b686ae1d2492",
   "metadata": {},
   "outputs": [
    {
     "data": {
      "text/plain": [
       "False    8800\n",
       "Name: count, dtype: int64"
      ]
     },
     "execution_count": 34,
     "metadata": {},
     "output_type": "execute_result"
    }
   ],
   "source": [
    "abcar.duplicated('permno').value_counts()"
   ]
  },
  {
   "cell_type": "code",
   "execution_count": 35,
   "id": "93bc529a-9f79-46b3-8cb8-3e5ed87f13c7",
   "metadata": {},
   "outputs": [
    {
     "data": {
      "text/plain": [
       "8800"
      ]
     },
     "execution_count": 35,
     "metadata": {},
     "output_type": "execute_result"
    }
   ],
   "source": [
    "#4.(print screen) show the unique number of companies.\n",
    "abcar['permno'].nunique()"
   ]
  },
  {
   "cell_type": "code",
   "execution_count": 36,
   "id": "95ee0227-7f1f-4344-9e96-74666406fbb6",
   "metadata": {},
   "outputs": [],
   "source": [
    "#now we merge info_crsp with abcar using inner merging by permno"
   ]
  },
  {
   "cell_type": "code",
   "execution_count": 37,
   "id": "3537e061-7d87-4322-b50a-88632987a26b",
   "metadata": {},
   "outputs": [
    {
     "data": {
      "text/html": [
       "<div>\n",
       "<style scoped>\n",
       "    .dataframe tbody tr th:only-of-type {\n",
       "        vertical-align: middle;\n",
       "    }\n",
       "\n",
       "    .dataframe tbody tr th {\n",
       "        vertical-align: top;\n",
       "    }\n",
       "\n",
       "    .dataframe thead th {\n",
       "        text-align: right;\n",
       "    }\n",
       "</style>\n",
       "<table border=\"1\" class=\"dataframe\">\n",
       "  <thead>\n",
       "    <tr style=\"text-align: right;\">\n",
       "      <th></th>\n",
       "      <th>Model</th>\n",
       "      <th>permno</th>\n",
       "      <th>evtdate</th>\n",
       "      <th>cret</th>\n",
       "      <th>car</th>\n",
       "      <th>bhar</th>\n",
       "      <th>nrets</th>\n",
       "      <th>nrets_est</th>\n",
       "      <th>siccd</th>\n",
       "      <th>ticker</th>\n",
       "      <th>comnam</th>\n",
       "      <th>cusip</th>\n",
       "      <th>namedt</th>\n",
       "    </tr>\n",
       "  </thead>\n",
       "  <tbody>\n",
       "    <tr>\n",
       "      <th>0</th>\n",
       "      <td>Market-Adjusted Model</td>\n",
       "      <td>10026</td>\n",
       "      <td>2022-02-24</td>\n",
       "      <td>-0.017184</td>\n",
       "      <td>0.042059</td>\n",
       "      <td>0.040689</td>\n",
       "      <td>21</td>\n",
       "      <td>100</td>\n",
       "      <td>2052</td>\n",
       "      <td>JJSF</td>\n",
       "      <td>J &amp; J SNACK FOODS CORP</td>\n",
       "      <td>46603210</td>\n",
       "      <td>2000-08-01</td>\n",
       "    </tr>\n",
       "    <tr>\n",
       "      <th>1</th>\n",
       "      <td>Market-Adjusted Model</td>\n",
       "      <td>10028</td>\n",
       "      <td>2022-02-24</td>\n",
       "      <td>0.012136</td>\n",
       "      <td>0.069834</td>\n",
       "      <td>0.070009</td>\n",
       "      <td>21</td>\n",
       "      <td>100</td>\n",
       "      <td>5094</td>\n",
       "      <td>ELA</td>\n",
       "      <td>ENVELA CORP</td>\n",
       "      <td>29402E10</td>\n",
       "      <td>2019-12-18</td>\n",
       "    </tr>\n",
       "    <tr>\n",
       "      <th>2</th>\n",
       "      <td>Market-Adjusted Model</td>\n",
       "      <td>10032</td>\n",
       "      <td>2022-02-24</td>\n",
       "      <td>0.047353</td>\n",
       "      <td>0.105853</td>\n",
       "      <td>0.105226</td>\n",
       "      <td>21</td>\n",
       "      <td>100</td>\n",
       "      <td>3670</td>\n",
       "      <td>PLXS</td>\n",
       "      <td>PLEXUS CORP</td>\n",
       "      <td>72913210</td>\n",
       "      <td>1986-02-05</td>\n",
       "    </tr>\n",
       "    <tr>\n",
       "      <th>3</th>\n",
       "      <td>Market-Adjusted Model</td>\n",
       "      <td>10044</td>\n",
       "      <td>2022-02-24</td>\n",
       "      <td>-0.069034</td>\n",
       "      <td>-0.010399</td>\n",
       "      <td>-0.011161</td>\n",
       "      <td>21</td>\n",
       "      <td>100</td>\n",
       "      <td>2060</td>\n",
       "      <td>RMCF</td>\n",
       "      <td>ROCKY MOUNTAIN CHOC FAC INC NEW</td>\n",
       "      <td>77467X10</td>\n",
       "      <td>2015-03-02</td>\n",
       "    </tr>\n",
       "    <tr>\n",
       "      <th>4</th>\n",
       "      <td>Market-Adjusted Model</td>\n",
       "      <td>10051</td>\n",
       "      <td>2022-02-24</td>\n",
       "      <td>0.115951</td>\n",
       "      <td>0.171434</td>\n",
       "      <td>0.173823</td>\n",
       "      <td>21</td>\n",
       "      <td>100</td>\n",
       "      <td>4813</td>\n",
       "      <td>HNGR</td>\n",
       "      <td>HANGER INC</td>\n",
       "      <td>41043F20</td>\n",
       "      <td>2020-02-14</td>\n",
       "    </tr>\n",
       "    <tr>\n",
       "      <th>...</th>\n",
       "      <td>...</td>\n",
       "      <td>...</td>\n",
       "      <td>...</td>\n",
       "      <td>...</td>\n",
       "      <td>...</td>\n",
       "      <td>...</td>\n",
       "      <td>...</td>\n",
       "      <td>...</td>\n",
       "      <td>...</td>\n",
       "      <td>...</td>\n",
       "      <td>...</td>\n",
       "      <td>...</td>\n",
       "      <td>...</td>\n",
       "    </tr>\n",
       "    <tr>\n",
       "      <th>8795</th>\n",
       "      <td>Market-Adjusted Model</td>\n",
       "      <td>93426</td>\n",
       "      <td>2022-02-24</td>\n",
       "      <td>-0.023935</td>\n",
       "      <td>0.035815</td>\n",
       "      <td>0.033938</td>\n",
       "      <td>21</td>\n",
       "      <td>100</td>\n",
       "      <td>3676</td>\n",
       "      <td>VPG</td>\n",
       "      <td>VISHAY PRECISION GROUP INC</td>\n",
       "      <td>92835K10</td>\n",
       "      <td>2010-07-07</td>\n",
       "    </tr>\n",
       "    <tr>\n",
       "      <th>8796</th>\n",
       "      <td>Market-Adjusted Model</td>\n",
       "      <td>93427</td>\n",
       "      <td>2022-02-24</td>\n",
       "      <td>-0.024695</td>\n",
       "      <td>0.035728</td>\n",
       "      <td>0.033178</td>\n",
       "      <td>21</td>\n",
       "      <td>100</td>\n",
       "      <td>3827</td>\n",
       "      <td>FN</td>\n",
       "      <td>FABRINET</td>\n",
       "      <td>G3323L10</td>\n",
       "      <td>2021-04-28</td>\n",
       "    </tr>\n",
       "    <tr>\n",
       "      <th>8797</th>\n",
       "      <td>Market-Adjusted Model</td>\n",
       "      <td>93429</td>\n",
       "      <td>2022-02-24</td>\n",
       "      <td>-0.065287</td>\n",
       "      <td>-0.008288</td>\n",
       "      <td>-0.007414</td>\n",
       "      <td>21</td>\n",
       "      <td>100</td>\n",
       "      <td>7374</td>\n",
       "      <td>CBOE</td>\n",
       "      <td>C B O E GLOBAL MARKETS INC</td>\n",
       "      <td>12503M10</td>\n",
       "      <td>2023-08-11</td>\n",
       "    </tr>\n",
       "    <tr>\n",
       "      <th>8798</th>\n",
       "      <td>Market-Adjusted Model</td>\n",
       "      <td>93434</td>\n",
       "      <td>2022-02-24</td>\n",
       "      <td>0.033755</td>\n",
       "      <td>0.096911</td>\n",
       "      <td>0.091628</td>\n",
       "      <td>21</td>\n",
       "      <td>100</td>\n",
       "      <td>9999</td>\n",
       "      <td>SANW</td>\n",
       "      <td>S &amp; W SEED CO</td>\n",
       "      <td>78513510</td>\n",
       "      <td>2010-06-14</td>\n",
       "    </tr>\n",
       "    <tr>\n",
       "      <th>8799</th>\n",
       "      <td>Market-Adjusted Model</td>\n",
       "      <td>93436</td>\n",
       "      <td>2022-02-24</td>\n",
       "      <td>-0.090781</td>\n",
       "      <td>-0.022726</td>\n",
       "      <td>-0.032908</td>\n",
       "      <td>21</td>\n",
       "      <td>100</td>\n",
       "      <td>9999</td>\n",
       "      <td>TSLA</td>\n",
       "      <td>TESLA INC</td>\n",
       "      <td>88160R10</td>\n",
       "      <td>2017-02-02</td>\n",
       "    </tr>\n",
       "  </tbody>\n",
       "</table>\n",
       "<p>8800 rows × 13 columns</p>\n",
       "</div>"
      ],
      "text/plain": [
       "                      Model  permno     evtdate      cret       car      bhar  \\\n",
       "0     Market-Adjusted Model   10026  2022-02-24 -0.017184  0.042059  0.040689   \n",
       "1     Market-Adjusted Model   10028  2022-02-24  0.012136  0.069834  0.070009   \n",
       "2     Market-Adjusted Model   10032  2022-02-24  0.047353  0.105853  0.105226   \n",
       "3     Market-Adjusted Model   10044  2022-02-24 -0.069034 -0.010399 -0.011161   \n",
       "4     Market-Adjusted Model   10051  2022-02-24  0.115951  0.171434  0.173823   \n",
       "...                     ...     ...         ...       ...       ...       ...   \n",
       "8795  Market-Adjusted Model   93426  2022-02-24 -0.023935  0.035815  0.033938   \n",
       "8796  Market-Adjusted Model   93427  2022-02-24 -0.024695  0.035728  0.033178   \n",
       "8797  Market-Adjusted Model   93429  2022-02-24 -0.065287 -0.008288 -0.007414   \n",
       "8798  Market-Adjusted Model   93434  2022-02-24  0.033755  0.096911  0.091628   \n",
       "8799  Market-Adjusted Model   93436  2022-02-24 -0.090781 -0.022726 -0.032908   \n",
       "\n",
       "      nrets  nrets_est  siccd ticker                           comnam  \\\n",
       "0        21        100   2052   JJSF           J & J SNACK FOODS CORP   \n",
       "1        21        100   5094    ELA                      ENVELA CORP   \n",
       "2        21        100   3670   PLXS                      PLEXUS CORP   \n",
       "3        21        100   2060   RMCF  ROCKY MOUNTAIN CHOC FAC INC NEW   \n",
       "4        21        100   4813   HNGR                       HANGER INC   \n",
       "...     ...        ...    ...    ...                              ...   \n",
       "8795     21        100   3676    VPG       VISHAY PRECISION GROUP INC   \n",
       "8796     21        100   3827     FN                         FABRINET   \n",
       "8797     21        100   7374   CBOE       C B O E GLOBAL MARKETS INC   \n",
       "8798     21        100   9999   SANW                    S & W SEED CO   \n",
       "8799     21        100   9999   TSLA                        TESLA INC   \n",
       "\n",
       "         cusip     namedt  \n",
       "0     46603210 2000-08-01  \n",
       "1     29402E10 2019-12-18  \n",
       "2     72913210 1986-02-05  \n",
       "3     77467X10 2015-03-02  \n",
       "4     41043F20 2020-02-14  \n",
       "...        ...        ...  \n",
       "8795  92835K10 2010-07-07  \n",
       "8796  G3323L10 2021-04-28  \n",
       "8797  12503M10 2023-08-11  \n",
       "8798  78513510 2010-06-14  \n",
       "8799  88160R10 2017-02-02  \n",
       "\n",
       "[8800 rows x 13 columns]"
      ]
     },
     "execution_count": 37,
     "metadata": {},
     "output_type": "execute_result"
    }
   ],
   "source": [
    "crsp = abcar.merge(info_crsp, how=\"inner\", on=\"permno\")\n",
    "crsp"
   ]
  },
  {
   "cell_type": "code",
   "execution_count": 38,
   "id": "b7cf0041-489f-4423-9625-0949fbb7f6df",
   "metadata": {},
   "outputs": [
    {
     "data": {
      "text/html": [
       "<div>\n",
       "<style scoped>\n",
       "    .dataframe tbody tr th:only-of-type {\n",
       "        vertical-align: middle;\n",
       "    }\n",
       "\n",
       "    .dataframe tbody tr th {\n",
       "        vertical-align: top;\n",
       "    }\n",
       "\n",
       "    .dataframe thead th {\n",
       "        text-align: right;\n",
       "    }\n",
       "</style>\n",
       "<table border=\"1\" class=\"dataframe\">\n",
       "  <thead>\n",
       "    <tr style=\"text-align: right;\">\n",
       "      <th></th>\n",
       "      <th>Model</th>\n",
       "      <th>permno</th>\n",
       "      <th>evtdate</th>\n",
       "      <th>cret</th>\n",
       "      <th>car</th>\n",
       "      <th>bhar</th>\n",
       "      <th>nrets</th>\n",
       "      <th>nrets_est</th>\n",
       "    </tr>\n",
       "  </thead>\n",
       "  <tbody>\n",
       "    <tr>\n",
       "      <th>0</th>\n",
       "      <td>Market-Adjusted Model</td>\n",
       "      <td>10026</td>\n",
       "      <td>2022-02-24</td>\n",
       "      <td>-0.017184</td>\n",
       "      <td>0.042059</td>\n",
       "      <td>0.040689</td>\n",
       "      <td>21</td>\n",
       "      <td>100</td>\n",
       "    </tr>\n",
       "    <tr>\n",
       "      <th>1</th>\n",
       "      <td>Market-Adjusted Model</td>\n",
       "      <td>10028</td>\n",
       "      <td>2022-02-24</td>\n",
       "      <td>0.012136</td>\n",
       "      <td>0.069834</td>\n",
       "      <td>0.070009</td>\n",
       "      <td>21</td>\n",
       "      <td>100</td>\n",
       "    </tr>\n",
       "    <tr>\n",
       "      <th>2</th>\n",
       "      <td>Market-Adjusted Model</td>\n",
       "      <td>10032</td>\n",
       "      <td>2022-02-24</td>\n",
       "      <td>0.047353</td>\n",
       "      <td>0.105853</td>\n",
       "      <td>0.105226</td>\n",
       "      <td>21</td>\n",
       "      <td>100</td>\n",
       "    </tr>\n",
       "    <tr>\n",
       "      <th>3</th>\n",
       "      <td>Market-Adjusted Model</td>\n",
       "      <td>10044</td>\n",
       "      <td>2022-02-24</td>\n",
       "      <td>-0.069034</td>\n",
       "      <td>-0.010399</td>\n",
       "      <td>-0.011161</td>\n",
       "      <td>21</td>\n",
       "      <td>100</td>\n",
       "    </tr>\n",
       "    <tr>\n",
       "      <th>4</th>\n",
       "      <td>Market-Adjusted Model</td>\n",
       "      <td>10051</td>\n",
       "      <td>2022-02-24</td>\n",
       "      <td>0.115951</td>\n",
       "      <td>0.171434</td>\n",
       "      <td>0.173823</td>\n",
       "      <td>21</td>\n",
       "      <td>100</td>\n",
       "    </tr>\n",
       "  </tbody>\n",
       "</table>\n",
       "</div>"
      ],
      "text/plain": [
       "                   Model  permno     evtdate      cret       car      bhar  \\\n",
       "0  Market-Adjusted Model   10026  2022-02-24 -0.017184  0.042059  0.040689   \n",
       "1  Market-Adjusted Model   10028  2022-02-24  0.012136  0.069834  0.070009   \n",
       "2  Market-Adjusted Model   10032  2022-02-24  0.047353  0.105853  0.105226   \n",
       "3  Market-Adjusted Model   10044  2022-02-24 -0.069034 -0.010399 -0.011161   \n",
       "4  Market-Adjusted Model   10051  2022-02-24  0.115951  0.171434  0.173823   \n",
       "\n",
       "   nrets  nrets_est  \n",
       "0     21        100  \n",
       "1     21        100  \n",
       "2     21        100  \n",
       "3     21        100  \n",
       "4     21        100  "
      ]
     },
     "execution_count": 38,
     "metadata": {},
     "output_type": "execute_result"
    }
   ],
   "source": [
    "abcar.head(5)"
   ]
  },
  {
   "cell_type": "code",
   "execution_count": 39,
   "id": "cf492981-1ea6-4b98-834c-3a12fb17897c",
   "metadata": {},
   "outputs": [
    {
     "name": "stdout",
     "output_type": "stream",
     "text": [
      "<class 'pandas.core.frame.DataFrame'>\n",
      "RangeIndex: 8800 entries, 0 to 8799\n",
      "Data columns (total 8 columns):\n",
      " #   Column     Non-Null Count  Dtype  \n",
      "---  ------     --------------  -----  \n",
      " 0   Model      8800 non-null   object \n",
      " 1   permno     8800 non-null   int64  \n",
      " 2   evtdate    8800 non-null   object \n",
      " 3   cret       8799 non-null   float64\n",
      " 4   car        8799 non-null   float64\n",
      " 5   bhar       8799 non-null   float64\n",
      " 6   nrets      8800 non-null   int64  \n",
      " 7   nrets_est  8800 non-null   int64  \n",
      "dtypes: float64(3), int64(3), object(2)\n",
      "memory usage: 550.1+ KB\n"
     ]
    }
   ],
   "source": [
    "#(print screen) Using ONE Pandas function, show the data information, including the list of columns, data types of columns, \n",
    "# the number of rows, memory, etc.\n",
    "abcar.info()"
   ]
  },
  {
   "cell_type": "code",
   "execution_count": 40,
   "id": "aa7d692c-85fa-4190-b69d-5049fd4cec4b",
   "metadata": {},
   "outputs": [],
   "source": [
    "#4.\n",
    "# the relationship between the data from Part 1 and Part 3 is one-to-one because the permno is being the unique identifier."
   ]
  },
  {
   "cell_type": "code",
   "execution_count": 41,
   "id": "3c1dee68-abd3-497b-9254-5ad0b8782f7d",
   "metadata": {},
   "outputs": [],
   "source": [
    "#5.\n",
    "#the merging strategy was used beacuse to get the expected outcome to combine multiple data set from nature of data we used.\n"
   ]
  },
  {
   "cell_type": "code",
   "execution_count": 42,
   "id": "9a996bc4-dc68-4024-bbb1-23969c5c4a36",
   "metadata": {},
   "outputs": [],
   "source": [
    "#6.\n",
    "#the classification is consider on we use the data to generate in structured way. \n",
    "#if it is time series, then single data is considered at different time patterns\n",
    "#on the other hand if we use multiple data at multiple time frequencies, it will be panel data\n",
    "#it depends upon whether the data included entities at one point or multiple entities considered in a time period."
   ]
  },
  {
   "cell_type": "code",
   "execution_count": 43,
   "id": "5740c806-362e-476d-82af-047ea694cab8",
   "metadata": {},
   "outputs": [],
   "source": [
    "# collecting compustat data\n",
    "\n",
    "comp = conn.raw_sql('''select sich, gvkey, datadate, conm, revt, ni from comp.funda \n",
    "                        where datafmt = 'STD' and consol = 'C'and indfmt = 'INDL'\n",
    "                        ''', date_cols=['datadate'])\n",
    "#generating year\n",
    "comp['year']=pd.DatetimeIndex(comp['datadate']).year\n",
    "\n",
    "#linkage\n",
    "url='https://github.com/kyoon5/shared/blob/main/link.csv?raw=true'\n",
    "link=pd.read_csv(url)\n",
    "link['gvkey'] = link['gvkey'].astype(str).str.zfill(6)\n",
    "link['linkdt']=pd.to_datetime(link['linkdt'])\n",
    "link['linkenddt']=pd.to_datetime(link['linkenddt'])\n",
    "\n",
    "#adding permno for crsp data\n",
    "comp2 = (\n",
    "    comp.merge(link, how='inner', on='gvkey')  # Join on gvkey\n",
    "    .query(\"datadate >= linkdt and (datadate <= linkenddt or linkenddt.isna())\")  # Apply date range filter\n",
    "    .assign(permno=lambda x: x['lpermno'])  # Select permno\n",
    "    .sort_values(['gvkey', 'datadate'])  # Sort by gvkey and datadate\n",
    ")\n",
    "\n",
    "comp2=comp2[['sich', 'gvkey','datadate','conm','revt','ni','year','permno']]"
   ]
  },
  {
   "cell_type": "code",
   "execution_count": 44,
   "id": "a893b9e6-9ed1-4f51-b3b3-f11d90d9d2c6",
   "metadata": {},
   "outputs": [],
   "source": [
    "crsp['year']=pd.DatetimeIndex(crsp['evtdate']).year"
   ]
  },
  {
   "cell_type": "code",
   "execution_count": 45,
   "id": "e4bc88f1-8f23-466a-9cbc-59c025f92d6c",
   "metadata": {},
   "outputs": [
    {
     "name": "stdout",
     "output_type": "stream",
     "text": [
      "<class 'pandas.core.frame.DataFrame'>\n",
      "RangeIndex: 5443 entries, 0 to 5442\n",
      "Data columns (total 20 columns):\n",
      " #   Column     Non-Null Count  Dtype         \n",
      "---  ------     --------------  -----         \n",
      " 0   Model      5443 non-null   object        \n",
      " 1   permno     5443 non-null   int64         \n",
      " 2   evtdate    5443 non-null   object        \n",
      " 3   cret       5442 non-null   float64       \n",
      " 4   car        5442 non-null   float64       \n",
      " 5   bhar       5442 non-null   float64       \n",
      " 6   nrets      5443 non-null   int64         \n",
      " 7   nrets_est  5443 non-null   int64         \n",
      " 8   siccd      5443 non-null   int64         \n",
      " 9   ticker     5443 non-null   object        \n",
      " 10  comnam     5443 non-null   object        \n",
      " 11  cusip      5443 non-null   object        \n",
      " 12  namedt     5443 non-null   datetime64[ns]\n",
      " 13  year       5443 non-null   int32         \n",
      " 14  sich       4967 non-null   float64       \n",
      " 15  gvkey      5443 non-null   object        \n",
      " 16  datadate   5443 non-null   datetime64[ns]\n",
      " 17  conm       5443 non-null   object        \n",
      " 18  revt       5046 non-null   float64       \n",
      " 19  ni         5046 non-null   float64       \n",
      "dtypes: datetime64[ns](2), float64(6), int32(1), int64(4), object(7)\n",
      "memory usage: 829.3+ KB\n"
     ]
    }
   ],
   "source": [
    "crsp_comp=crsp.merge(comp2,how=\"inner\",on=['permno','year'])\n",
    "crsp_comp.info()"
   ]
  },
  {
   "cell_type": "code",
   "execution_count": 46,
   "id": "5a067b9d-8c13-4e89-bd1e-aa341808a436",
   "metadata": {},
   "outputs": [],
   "source": [
    "# We have selected Ariff's Work which is Energy Industry and We have merged the data of Pragathi's Industry Defense. \n",
    "#And also our sample sizes are same. From here we have done the work for both the industries accordingly."
   ]
  },
  {
   "cell_type": "code",
   "execution_count": 47,
   "id": "6775ce6e-233a-47bb-8a9c-db5b0656cda8",
   "metadata": {},
   "outputs": [],
   "source": [
    "import numpy as np"
   ]
  },
  {
   "cell_type": "code",
   "execution_count": 48,
   "id": "bd039175-b9f5-424c-b9cd-1538b0b8a826",
   "metadata": {},
   "outputs": [],
   "source": [
    "crsp_comp['energy']=np.where((crsp_comp['siccd']>=2910)&(crsp_comp['siccd']<=2911),True,False)"
   ]
  },
  {
   "cell_type": "code",
   "execution_count": 49,
   "id": "301b7ba4-47a2-41eb-9711-365a7349f84e",
   "metadata": {},
   "outputs": [],
   "source": [
    "crsp_comp['Defense']=np.where((crsp_comp['siccd']>= 3759)&(crsp_comp['siccd']<=3761),True,False)"
   ]
  },
  {
   "cell_type": "code",
   "execution_count": 50,
   "id": "9c0288b0-5d90-4bb9-b7f7-3db549ea62ff",
   "metadata": {},
   "outputs": [
    {
     "data": {
      "text/plain": [
       "energy\n",
       "False    5428\n",
       "True       15\n",
       "Name: count, dtype: int64"
      ]
     },
     "execution_count": 50,
     "metadata": {},
     "output_type": "execute_result"
    }
   ],
   "source": [
    "crsp_comp['energy'].value_counts()"
   ]
  },
  {
   "cell_type": "code",
   "execution_count": 51,
   "id": "61e58e80-cefc-4872-bd30-1377d231fb66",
   "metadata": {},
   "outputs": [
    {
     "data": {
      "text/plain": [
       "Defense\n",
       "False    5440\n",
       "True        3\n",
       "Name: count, dtype: int64"
      ]
     },
     "execution_count": 51,
     "metadata": {},
     "output_type": "execute_result"
    }
   ],
   "source": [
    "crsp_comp['Defense'].value_counts()"
   ]
  },
  {
   "cell_type": "code",
   "execution_count": 52,
   "id": "3c5f5a32-5bac-498a-8e0e-506a7ab157c3",
   "metadata": {},
   "outputs": [
    {
     "name": "stdout",
     "output_type": "stream",
     "text": [
      "<class 'pandas.core.frame.DataFrame'>\n",
      "RangeIndex: 5443 entries, 0 to 5442\n",
      "Data columns (total 22 columns):\n",
      " #   Column     Non-Null Count  Dtype         \n",
      "---  ------     --------------  -----         \n",
      " 0   Model      5443 non-null   object        \n",
      " 1   permno     5443 non-null   int64         \n",
      " 2   evtdate    5443 non-null   object        \n",
      " 3   cret       5442 non-null   float64       \n",
      " 4   car        5442 non-null   float64       \n",
      " 5   bhar       5442 non-null   float64       \n",
      " 6   nrets      5443 non-null   int64         \n",
      " 7   nrets_est  5443 non-null   int64         \n",
      " 8   siccd      5443 non-null   int64         \n",
      " 9   ticker     5443 non-null   object        \n",
      " 10  comnam     5443 non-null   object        \n",
      " 11  cusip      5443 non-null   object        \n",
      " 12  namedt     5443 non-null   datetime64[ns]\n",
      " 13  year       5443 non-null   int32         \n",
      " 14  sich       4967 non-null   float64       \n",
      " 15  gvkey      5443 non-null   object        \n",
      " 16  datadate   5443 non-null   datetime64[ns]\n",
      " 17  conm       5443 non-null   object        \n",
      " 18  revt       5046 non-null   float64       \n",
      " 19  ni         5046 non-null   float64       \n",
      " 20  energy     5443 non-null   bool          \n",
      " 21  Defense    5443 non-null   bool          \n",
      "dtypes: bool(2), datetime64[ns](2), float64(6), int32(1), int64(4), object(7)\n",
      "memory usage: 840.0+ KB\n"
     ]
    }
   ],
   "source": [
    "crsp_comp.info()"
   ]
  },
  {
   "cell_type": "code",
   "execution_count": 53,
   "id": "626aa3a4-dafc-4e19-91e2-5b4cc6486edf",
   "metadata": {},
   "outputs": [],
   "source": [
    "#Importing Pickle\n",
    "import pickle"
   ]
  },
  {
   "cell_type": "code",
   "execution_count": 54,
   "id": "c5fb9eaa-85e1-4f25-8001-2f80acafa7d6",
   "metadata": {},
   "outputs": [],
   "source": [
    "# Save multiple DataFrames in a dictionary\n",
    "data = {'info_crsp': info_crsp, 'crsp': crsp, 'crsp_comp':crsp_comp}"
   ]
  },
  {
   "cell_type": "code",
   "execution_count": 55,
   "id": "a93be001-fa07-47dd-acb4-5c736bfee08e",
   "metadata": {},
   "outputs": [],
   "source": [
    "loc=r\"C:\\Users\\lenovo\\Downloads\""
   ]
  },
  {
   "cell_type": "code",
   "execution_count": 56,
   "id": "353ff8a3-7614-41b9-bd86-d1e61154f202",
   "metadata": {},
   "outputs": [],
   "source": [
    "# Define the file name and location fname = loc + '\\\\assignment6.pkl'\n",
    "fname=loc+'\\\\assignmentmod-1.pkl'"
   ]
  },
  {
   "cell_type": "code",
   "execution_count": 57,
   "id": "53a1ad67-18a6-4170-a96c-e42faedfea00",
   "metadata": {},
   "outputs": [],
   "source": [
    "with open(fname, 'wb') as file: \n",
    "    pickle.dump(data, file)\n",
    "#Post Pickle file in your Github"
   ]
  },
  {
   "cell_type": "code",
   "execution_count": 58,
   "id": "751f4bb2-fe68-4639-be79-12a9828552ec",
   "metadata": {},
   "outputs": [],
   "source": [
    "import joblib\n",
    "from io import BytesIO\n",
    "import pickle\n",
    "import requests # or https\n",
    "\n",
    "# The website address of your pickle file\n",
    "url='https://github.com/ARIFFKHANAMIR/Pickle/blob/main/assignmentmod-1.pkl?raw=true'\n",
    "\n",
    "\n",
    "\n",
    "# Download the pickle file\n",
    "response = requests.get(url)\n",
    "response.raise_for_status()  # Ensure the download was successful\n",
    "\n",
    "# Load the pickle file\n",
    "data = pickle.loads(response.content)\n",
    "\n",
    "info_crsp = data['info_crsp']\n",
    "crsp = data['crsp']\n",
    "crsp_comp = data['crsp_comp']"
   ]
  },
  {
   "cell_type": "code",
   "execution_count": 59,
   "id": "f161ddd6-77e9-425e-9788-86ab47a78824",
   "metadata": {},
   "outputs": [
    {
     "name": "stdout",
     "output_type": "stream",
     "text": [
      "<class 'pandas.core.frame.DataFrame'>\n",
      "RangeIndex: 5443 entries, 0 to 5442\n",
      "Data columns (total 22 columns):\n",
      " #   Column     Non-Null Count  Dtype         \n",
      "---  ------     --------------  -----         \n",
      " 0   Model      5443 non-null   object        \n",
      " 1   permno     5443 non-null   int64         \n",
      " 2   evtdate    5443 non-null   object        \n",
      " 3   cret       5442 non-null   float64       \n",
      " 4   car        5442 non-null   float64       \n",
      " 5   bhar       5442 non-null   float64       \n",
      " 6   nrets      5443 non-null   int64         \n",
      " 7   nrets_est  5443 non-null   int64         \n",
      " 8   siccd      5443 non-null   int64         \n",
      " 9   ticker     5443 non-null   object        \n",
      " 10  comnam     5443 non-null   object        \n",
      " 11  cusip      5443 non-null   object        \n",
      " 12  namedt     5443 non-null   datetime64[ns]\n",
      " 13  year       5443 non-null   int32         \n",
      " 14  sich       4967 non-null   float64       \n",
      " 15  gvkey      5443 non-null   object        \n",
      " 16  datadate   5443 non-null   datetime64[ns]\n",
      " 17  conm       5443 non-null   object        \n",
      " 18  revt       5046 non-null   float64       \n",
      " 19  ni         5046 non-null   float64       \n",
      " 20  energy     5443 non-null   bool          \n",
      " 21  Defense    5443 non-null   bool          \n",
      "dtypes: bool(2), datetime64[ns](2), float64(6), int32(1), int64(4), object(7)\n",
      "memory usage: 840.0+ KB\n"
     ]
    }
   ],
   "source": [
    "crsp_comp.info()"
   ]
  },
  {
   "cell_type": "code",
   "execution_count": 60,
   "id": "e9617ec2-4572-4c07-b3ab-e95af819a884",
   "metadata": {},
   "outputs": [
    {
     "data": {
      "text/html": [
       "<div>\n",
       "<style scoped>\n",
       "    .dataframe tbody tr th:only-of-type {\n",
       "        vertical-align: middle;\n",
       "    }\n",
       "\n",
       "    .dataframe tbody tr th {\n",
       "        vertical-align: top;\n",
       "    }\n",
       "\n",
       "    .dataframe thead th {\n",
       "        text-align: right;\n",
       "    }\n",
       "</style>\n",
       "<table border=\"1\" class=\"dataframe\">\n",
       "  <thead>\n",
       "    <tr style=\"text-align: right;\">\n",
       "      <th></th>\n",
       "      <th>permno</th>\n",
       "      <th>cret</th>\n",
       "      <th>car</th>\n",
       "      <th>bhar</th>\n",
       "      <th>nrets</th>\n",
       "      <th>nrets_est</th>\n",
       "      <th>siccd</th>\n",
       "      <th>namedt</th>\n",
       "      <th>year</th>\n",
       "      <th>sich</th>\n",
       "      <th>datadate</th>\n",
       "      <th>revt</th>\n",
       "      <th>ni</th>\n",
       "    </tr>\n",
       "  </thead>\n",
       "  <tbody>\n",
       "    <tr>\n",
       "      <th>count</th>\n",
       "      <td>5443.000000</td>\n",
       "      <td>5442.000000</td>\n",
       "      <td>5442.000000</td>\n",
       "      <td>5442.000000</td>\n",
       "      <td>5443.000000</td>\n",
       "      <td>5443.000000</td>\n",
       "      <td>5443.000000</td>\n",
       "      <td>5443</td>\n",
       "      <td>5443.0</td>\n",
       "      <td>4967.000000</td>\n",
       "      <td>5443</td>\n",
       "      <td>5046.000000</td>\n",
       "      <td>5046.000000</td>\n",
       "    </tr>\n",
       "    <tr>\n",
       "      <th>mean</th>\n",
       "      <td>46002.168841</td>\n",
       "      <td>-0.025745</td>\n",
       "      <td>0.032284</td>\n",
       "      <td>0.032117</td>\n",
       "      <td>20.996693</td>\n",
       "      <td>99.113908</td>\n",
       "      <td>6583.870660</td>\n",
       "      <td>2016-02-23 03:10:44.864964096</td>\n",
       "      <td>2022.0</td>\n",
       "      <td>4832.920676</td>\n",
       "      <td>2022-11-22 11:59:20.316002304</td>\n",
       "      <td>5551.204957</td>\n",
       "      <td>492.748442</td>\n",
       "    </tr>\n",
       "    <tr>\n",
       "      <th>min</th>\n",
       "      <td>10026.000000</td>\n",
       "      <td>-0.871707</td>\n",
       "      <td>-1.144936</td>\n",
       "      <td>-0.813835</td>\n",
       "      <td>12.000000</td>\n",
       "      <td>40.000000</td>\n",
       "      <td>0.000000</td>\n",
       "      <td>1968-01-02 00:00:00</td>\n",
       "      <td>2022.0</td>\n",
       "      <td>100.000000</td>\n",
       "      <td>2022-01-31 00:00:00</td>\n",
       "      <td>-11591.578000</td>\n",
       "      <td>-22819.000000</td>\n",
       "    </tr>\n",
       "    <tr>\n",
       "      <th>25%</th>\n",
       "      <td>17147.500000</td>\n",
       "      <td>-0.119025</td>\n",
       "      <td>-0.054139</td>\n",
       "      <td>-0.061152</td>\n",
       "      <td>21.000000</td>\n",
       "      <td>100.000000</td>\n",
       "      <td>3867.000000</td>\n",
       "      <td>2013-11-03 12:00:00</td>\n",
       "      <td>2022.0</td>\n",
       "      <td>2836.000000</td>\n",
       "      <td>2022-12-31 00:00:00</td>\n",
       "      <td>50.595000</td>\n",
       "      <td>-41.305500</td>\n",
       "    </tr>\n",
       "    <tr>\n",
       "      <th>50%</th>\n",
       "      <td>21609.000000</td>\n",
       "      <td>-0.041649</td>\n",
       "      <td>0.022612</td>\n",
       "      <td>0.016224</td>\n",
       "      <td>21.000000</td>\n",
       "      <td>100.000000</td>\n",
       "      <td>6722.000000</td>\n",
       "      <td>2019-09-09 00:00:00</td>\n",
       "      <td>2022.0</td>\n",
       "      <td>4700.000000</td>\n",
       "      <td>2022-12-31 00:00:00</td>\n",
       "      <td>439.831000</td>\n",
       "      <td>7.869500</td>\n",
       "    </tr>\n",
       "    <tr>\n",
       "      <th>75%</th>\n",
       "      <td>83677.000000</td>\n",
       "      <td>0.030037</td>\n",
       "      <td>0.100030</td>\n",
       "      <td>0.087910</td>\n",
       "      <td>21.000000</td>\n",
       "      <td>100.000000</td>\n",
       "      <td>9999.000000</td>\n",
       "      <td>2021-07-06 00:00:00</td>\n",
       "      <td>2022.0</td>\n",
       "      <td>6552.000000</td>\n",
       "      <td>2022-12-31 00:00:00</td>\n",
       "      <td>2373.881500</td>\n",
       "      <td>189.825000</td>\n",
       "    </tr>\n",
       "    <tr>\n",
       "      <th>max</th>\n",
       "      <td>93436.000000</td>\n",
       "      <td>8.351288</td>\n",
       "      <td>5.504272</td>\n",
       "      <td>8.409161</td>\n",
       "      <td>21.000000</td>\n",
       "      <td>100.000000</td>\n",
       "      <td>9999.000000</td>\n",
       "      <td>2023-12-29 00:00:00</td>\n",
       "      <td>2022.0</td>\n",
       "      <td>9997.000000</td>\n",
       "      <td>2022-12-31 00:00:00</td>\n",
       "      <td>569962.000000</td>\n",
       "      <td>99803.000000</td>\n",
       "    </tr>\n",
       "    <tr>\n",
       "      <th>std</th>\n",
       "      <td>32741.229190</td>\n",
       "      <td>0.256853</td>\n",
       "      <td>0.226515</td>\n",
       "      <td>0.256876</td>\n",
       "      <td>0.172504</td>\n",
       "      <td>5.938082</td>\n",
       "      <td>2779.034414</td>\n",
       "      <td>NaN</td>\n",
       "      <td>0.0</td>\n",
       "      <td>2027.527855</td>\n",
       "      <td>NaN</td>\n",
       "      <td>23883.935566</td>\n",
       "      <td>3105.174181</td>\n",
       "    </tr>\n",
       "  </tbody>\n",
       "</table>\n",
       "</div>"
      ],
      "text/plain": [
       "             permno         cret          car         bhar        nrets  \\\n",
       "count   5443.000000  5442.000000  5442.000000  5442.000000  5443.000000   \n",
       "mean   46002.168841    -0.025745     0.032284     0.032117    20.996693   \n",
       "min    10026.000000    -0.871707    -1.144936    -0.813835    12.000000   \n",
       "25%    17147.500000    -0.119025    -0.054139    -0.061152    21.000000   \n",
       "50%    21609.000000    -0.041649     0.022612     0.016224    21.000000   \n",
       "75%    83677.000000     0.030037     0.100030     0.087910    21.000000   \n",
       "max    93436.000000     8.351288     5.504272     8.409161    21.000000   \n",
       "std    32741.229190     0.256853     0.226515     0.256876     0.172504   \n",
       "\n",
       "         nrets_est        siccd                         namedt    year  \\\n",
       "count  5443.000000  5443.000000                           5443  5443.0   \n",
       "mean     99.113908  6583.870660  2016-02-23 03:10:44.864964096  2022.0   \n",
       "min      40.000000     0.000000            1968-01-02 00:00:00  2022.0   \n",
       "25%     100.000000  3867.000000            2013-11-03 12:00:00  2022.0   \n",
       "50%     100.000000  6722.000000            2019-09-09 00:00:00  2022.0   \n",
       "75%     100.000000  9999.000000            2021-07-06 00:00:00  2022.0   \n",
       "max     100.000000  9999.000000            2023-12-29 00:00:00  2022.0   \n",
       "std       5.938082  2779.034414                            NaN     0.0   \n",
       "\n",
       "              sich                       datadate           revt            ni  \n",
       "count  4967.000000                           5443    5046.000000   5046.000000  \n",
       "mean   4832.920676  2022-11-22 11:59:20.316002304    5551.204957    492.748442  \n",
       "min     100.000000            2022-01-31 00:00:00  -11591.578000 -22819.000000  \n",
       "25%    2836.000000            2022-12-31 00:00:00      50.595000    -41.305500  \n",
       "50%    4700.000000            2022-12-31 00:00:00     439.831000      7.869500  \n",
       "75%    6552.000000            2022-12-31 00:00:00    2373.881500    189.825000  \n",
       "max    9997.000000            2022-12-31 00:00:00  569962.000000  99803.000000  \n",
       "std    2027.527855                            NaN   23883.935566   3105.174181  "
      ]
     },
     "execution_count": 60,
     "metadata": {},
     "output_type": "execute_result"
    }
   ],
   "source": [
    "crsp_comp.describe()"
   ]
  },
  {
   "cell_type": "code",
   "execution_count": 61,
   "id": "d4855058-4f22-45f1-9fcf-25916aa513f8",
   "metadata": {},
   "outputs": [
    {
     "data": {
      "text/html": [
       "<div>\n",
       "<style scoped>\n",
       "    .dataframe tbody tr th:only-of-type {\n",
       "        vertical-align: middle;\n",
       "    }\n",
       "\n",
       "    .dataframe tbody tr th {\n",
       "        vertical-align: top;\n",
       "    }\n",
       "\n",
       "    .dataframe thead th {\n",
       "        text-align: right;\n",
       "    }\n",
       "</style>\n",
       "<table border=\"1\" class=\"dataframe\">\n",
       "  <thead>\n",
       "    <tr style=\"text-align: right;\">\n",
       "      <th></th>\n",
       "      <th>cret</th>\n",
       "      <th>car</th>\n",
       "      <th>bhar</th>\n",
       "      <th>nrets</th>\n",
       "      <th>nrets_est</th>\n",
       "      <th>siccd</th>\n",
       "      <th>sich</th>\n",
       "      <th>revt</th>\n",
       "      <th>ni</th>\n",
       "    </tr>\n",
       "  </thead>\n",
       "  <tbody>\n",
       "    <tr>\n",
       "      <th>count</th>\n",
       "      <td>5442.000000</td>\n",
       "      <td>5442.000000</td>\n",
       "      <td>5442.000000</td>\n",
       "      <td>5443.000000</td>\n",
       "      <td>5443.000000</td>\n",
       "      <td>5443.000000</td>\n",
       "      <td>4967.000000</td>\n",
       "      <td>5046.000000</td>\n",
       "      <td>5046.000000</td>\n",
       "    </tr>\n",
       "    <tr>\n",
       "      <th>mean</th>\n",
       "      <td>-0.025745</td>\n",
       "      <td>0.032284</td>\n",
       "      <td>0.032117</td>\n",
       "      <td>20.996693</td>\n",
       "      <td>99.113908</td>\n",
       "      <td>6583.870660</td>\n",
       "      <td>4832.920676</td>\n",
       "      <td>5551.204957</td>\n",
       "      <td>492.748442</td>\n",
       "    </tr>\n",
       "    <tr>\n",
       "      <th>std</th>\n",
       "      <td>0.256853</td>\n",
       "      <td>0.226515</td>\n",
       "      <td>0.256876</td>\n",
       "      <td>0.172504</td>\n",
       "      <td>5.938082</td>\n",
       "      <td>2779.034414</td>\n",
       "      <td>2027.527855</td>\n",
       "      <td>23883.935566</td>\n",
       "      <td>3105.174181</td>\n",
       "    </tr>\n",
       "    <tr>\n",
       "      <th>min</th>\n",
       "      <td>-0.871707</td>\n",
       "      <td>-1.144936</td>\n",
       "      <td>-0.813835</td>\n",
       "      <td>12.000000</td>\n",
       "      <td>40.000000</td>\n",
       "      <td>0.000000</td>\n",
       "      <td>100.000000</td>\n",
       "      <td>-11591.578000</td>\n",
       "      <td>-22819.000000</td>\n",
       "    </tr>\n",
       "    <tr>\n",
       "      <th>25%</th>\n",
       "      <td>-0.119025</td>\n",
       "      <td>-0.054139</td>\n",
       "      <td>-0.061152</td>\n",
       "      <td>21.000000</td>\n",
       "      <td>100.000000</td>\n",
       "      <td>3867.000000</td>\n",
       "      <td>2836.000000</td>\n",
       "      <td>50.595000</td>\n",
       "      <td>-41.305500</td>\n",
       "    </tr>\n",
       "    <tr>\n",
       "      <th>50%</th>\n",
       "      <td>-0.041649</td>\n",
       "      <td>0.022612</td>\n",
       "      <td>0.016224</td>\n",
       "      <td>21.000000</td>\n",
       "      <td>100.000000</td>\n",
       "      <td>6722.000000</td>\n",
       "      <td>4700.000000</td>\n",
       "      <td>439.831000</td>\n",
       "      <td>7.869500</td>\n",
       "    </tr>\n",
       "    <tr>\n",
       "      <th>75%</th>\n",
       "      <td>0.030037</td>\n",
       "      <td>0.100030</td>\n",
       "      <td>0.087910</td>\n",
       "      <td>21.000000</td>\n",
       "      <td>100.000000</td>\n",
       "      <td>9999.000000</td>\n",
       "      <td>6552.000000</td>\n",
       "      <td>2373.881500</td>\n",
       "      <td>189.825000</td>\n",
       "    </tr>\n",
       "    <tr>\n",
       "      <th>max</th>\n",
       "      <td>8.351288</td>\n",
       "      <td>5.504272</td>\n",
       "      <td>8.409161</td>\n",
       "      <td>21.000000</td>\n",
       "      <td>100.000000</td>\n",
       "      <td>9999.000000</td>\n",
       "      <td>9997.000000</td>\n",
       "      <td>569962.000000</td>\n",
       "      <td>99803.000000</td>\n",
       "    </tr>\n",
       "  </tbody>\n",
       "</table>\n",
       "</div>"
      ],
      "text/plain": [
       "              cret          car         bhar        nrets    nrets_est  \\\n",
       "count  5442.000000  5442.000000  5442.000000  5443.000000  5443.000000   \n",
       "mean     -0.025745     0.032284     0.032117    20.996693    99.113908   \n",
       "std       0.256853     0.226515     0.256876     0.172504     5.938082   \n",
       "min      -0.871707    -1.144936    -0.813835    12.000000    40.000000   \n",
       "25%      -0.119025    -0.054139    -0.061152    21.000000   100.000000   \n",
       "50%      -0.041649     0.022612     0.016224    21.000000   100.000000   \n",
       "75%       0.030037     0.100030     0.087910    21.000000   100.000000   \n",
       "max       8.351288     5.504272     8.409161    21.000000   100.000000   \n",
       "\n",
       "             siccd         sich           revt            ni  \n",
       "count  5443.000000  4967.000000    5046.000000   5046.000000  \n",
       "mean   6583.870660  4832.920676    5551.204957    492.748442  \n",
       "std    2779.034414  2027.527855   23883.935566   3105.174181  \n",
       "min       0.000000   100.000000  -11591.578000 -22819.000000  \n",
       "25%    3867.000000  2836.000000      50.595000    -41.305500  \n",
       "50%    6722.000000  4700.000000     439.831000      7.869500  \n",
       "75%    9999.000000  6552.000000    2373.881500    189.825000  \n",
       "max    9999.000000  9997.000000  569962.000000  99803.000000  "
      ]
     },
     "execution_count": 61,
     "metadata": {},
     "output_type": "execute_result"
    }
   ],
   "source": [
    "crsp_comp[['cret', 'car', 'bhar', 'nrets', 'nrets_est', 'siccd', 'sich', 'revt', 'ni']].describe()"
   ]
  },
  {
   "cell_type": "code",
   "execution_count": 62,
   "id": "7d797648-3336-4d49-97aa-2b94dcdc1994",
   "metadata": {},
   "outputs": [],
   "source": [
    "#Checking the count of True and False in the Energy and Defense coloumn"
   ]
  },
  {
   "cell_type": "code",
   "execution_count": 63,
   "id": "f5453dec-b62b-4a88-91c4-5747bef91977",
   "metadata": {},
   "outputs": [
    {
     "data": {
      "text/plain": [
       "energy\n",
       "False    5428\n",
       "True       15\n",
       "Name: count, dtype: int64"
      ]
     },
     "execution_count": 63,
     "metadata": {},
     "output_type": "execute_result"
    }
   ],
   "source": [
    "crsp_comp['energy'].value_counts()"
   ]
  },
  {
   "cell_type": "code",
   "execution_count": 64,
   "id": "31229a61-4441-423f-8946-eb47286139bb",
   "metadata": {},
   "outputs": [
    {
     "data": {
      "text/plain": [
       "Defense\n",
       "False    5440\n",
       "True        3\n",
       "Name: count, dtype: int64"
      ]
     },
     "execution_count": 64,
     "metadata": {},
     "output_type": "execute_result"
    }
   ],
   "source": [
    "crsp_comp['Defense'].value_counts()"
   ]
  },
  {
   "cell_type": "code",
   "execution_count": 65,
   "id": "f752576a-91b1-43d7-bfcf-8fe7fa0431ba",
   "metadata": {},
   "outputs": [
    {
     "name": "stderr",
     "output_type": "stream",
     "text": [
      "/opt/anaconda3/lib/python3.12/site-packages/pandas/core/arraylike.py:399: RuntimeWarning: invalid value encountered in log\n",
      "  result = getattr(ufunc, method)(*inputs, **kwargs)\n"
     ]
    },
    {
     "data": {
      "text/html": [
       "<div>\n",
       "<style scoped>\n",
       "    .dataframe tbody tr th:only-of-type {\n",
       "        vertical-align: middle;\n",
       "    }\n",
       "\n",
       "    .dataframe tbody tr th {\n",
       "        vertical-align: top;\n",
       "    }\n",
       "\n",
       "    .dataframe thead th {\n",
       "        text-align: right;\n",
       "    }\n",
       "</style>\n",
       "<table border=\"1\" class=\"dataframe\">\n",
       "  <thead>\n",
       "    <tr style=\"text-align: right;\">\n",
       "      <th></th>\n",
       "      <th>Model</th>\n",
       "      <th>permno</th>\n",
       "      <th>evtdate</th>\n",
       "      <th>cret</th>\n",
       "      <th>car</th>\n",
       "      <th>bhar</th>\n",
       "      <th>nrets</th>\n",
       "      <th>nrets_est</th>\n",
       "      <th>siccd</th>\n",
       "      <th>ticker</th>\n",
       "      <th>...</th>\n",
       "      <th>sich</th>\n",
       "      <th>gvkey</th>\n",
       "      <th>datadate</th>\n",
       "      <th>conm</th>\n",
       "      <th>revt</th>\n",
       "      <th>ni</th>\n",
       "      <th>energy</th>\n",
       "      <th>Defense</th>\n",
       "      <th>norm</th>\n",
       "      <th>log_revt</th>\n",
       "    </tr>\n",
       "  </thead>\n",
       "  <tbody>\n",
       "    <tr>\n",
       "      <th>0</th>\n",
       "      <td>Market-Adjusted Model</td>\n",
       "      <td>10026</td>\n",
       "      <td>2022-02-24</td>\n",
       "      <td>-0.017184</td>\n",
       "      <td>0.042059</td>\n",
       "      <td>0.040689</td>\n",
       "      <td>21</td>\n",
       "      <td>100</td>\n",
       "      <td>2052</td>\n",
       "      <td>JJSF</td>\n",
       "      <td>...</td>\n",
       "      <td>2050.0</td>\n",
       "      <td>012825</td>\n",
       "      <td>2022-09-30</td>\n",
       "      <td>J &amp; J SNACK FOODS CORP</td>\n",
       "      <td>1380.656</td>\n",
       "      <td>47.235</td>\n",
       "      <td>False</td>\n",
       "      <td>False</td>\n",
       "      <td>690.828</td>\n",
       "      <td>6.537891</td>\n",
       "    </tr>\n",
       "    <tr>\n",
       "      <th>1</th>\n",
       "      <td>Market-Adjusted Model</td>\n",
       "      <td>10028</td>\n",
       "      <td>2022-02-24</td>\n",
       "      <td>0.012136</td>\n",
       "      <td>0.069834</td>\n",
       "      <td>0.070009</td>\n",
       "      <td>21</td>\n",
       "      <td>100</td>\n",
       "      <td>5094</td>\n",
       "      <td>ELA</td>\n",
       "      <td>...</td>\n",
       "      <td>5990.0</td>\n",
       "      <td>012096</td>\n",
       "      <td>2022-12-31</td>\n",
       "      <td>ENVELA CORP</td>\n",
       "      <td>182.686</td>\n",
       "      <td>15.689</td>\n",
       "      <td>False</td>\n",
       "      <td>False</td>\n",
       "      <td>91.843</td>\n",
       "      <td>4.520081</td>\n",
       "    </tr>\n",
       "    <tr>\n",
       "      <th>2</th>\n",
       "      <td>Market-Adjusted Model</td>\n",
       "      <td>10032</td>\n",
       "      <td>2022-02-24</td>\n",
       "      <td>0.047353</td>\n",
       "      <td>0.105853</td>\n",
       "      <td>0.105226</td>\n",
       "      <td>21</td>\n",
       "      <td>100</td>\n",
       "      <td>3670</td>\n",
       "      <td>PLXS</td>\n",
       "      <td>...</td>\n",
       "      <td>3672.0</td>\n",
       "      <td>012945</td>\n",
       "      <td>2022-09-30</td>\n",
       "      <td>PLEXUS CORP</td>\n",
       "      <td>3811.368</td>\n",
       "      <td>138.243</td>\n",
       "      <td>False</td>\n",
       "      <td>False</td>\n",
       "      <td>1906.184</td>\n",
       "      <td>7.552859</td>\n",
       "    </tr>\n",
       "    <tr>\n",
       "      <th>3</th>\n",
       "      <td>Market-Adjusted Model</td>\n",
       "      <td>10044</td>\n",
       "      <td>2022-02-24</td>\n",
       "      <td>-0.069034</td>\n",
       "      <td>-0.010399</td>\n",
       "      <td>-0.011161</td>\n",
       "      <td>21</td>\n",
       "      <td>100</td>\n",
       "      <td>2060</td>\n",
       "      <td>RMCF</td>\n",
       "      <td>...</td>\n",
       "      <td>2060.0</td>\n",
       "      <td>011976</td>\n",
       "      <td>2022-02-28</td>\n",
       "      <td>ROCKY MOUNTAIN CHOC FACT INC</td>\n",
       "      <td>32.342</td>\n",
       "      <td>-0.342</td>\n",
       "      <td>False</td>\n",
       "      <td>False</td>\n",
       "      <td>16.671</td>\n",
       "      <td>2.813671</td>\n",
       "    </tr>\n",
       "    <tr>\n",
       "      <th>4</th>\n",
       "      <td>Market-Adjusted Model</td>\n",
       "      <td>10065</td>\n",
       "      <td>2022-02-24</td>\n",
       "      <td>-0.060154</td>\n",
       "      <td>-0.002260</td>\n",
       "      <td>-0.002281</td>\n",
       "      <td>21</td>\n",
       "      <td>100</td>\n",
       "      <td>6722</td>\n",
       "      <td>ADX</td>\n",
       "      <td>...</td>\n",
       "      <td>NaN</td>\n",
       "      <td>001119</td>\n",
       "      <td>2022-12-31</td>\n",
       "      <td>ADAMS DIVERSIFIED EQUITY FD</td>\n",
       "      <td>NaN</td>\n",
       "      <td>NaN</td>\n",
       "      <td>False</td>\n",
       "      <td>False</td>\n",
       "      <td>NaN</td>\n",
       "      <td>NaN</td>\n",
       "    </tr>\n",
       "  </tbody>\n",
       "</table>\n",
       "<p>5 rows × 24 columns</p>\n",
       "</div>"
      ],
      "text/plain": [
       "                   Model  permno     evtdate      cret       car      bhar  \\\n",
       "0  Market-Adjusted Model   10026  2022-02-24 -0.017184  0.042059  0.040689   \n",
       "1  Market-Adjusted Model   10028  2022-02-24  0.012136  0.069834  0.070009   \n",
       "2  Market-Adjusted Model   10032  2022-02-24  0.047353  0.105853  0.105226   \n",
       "3  Market-Adjusted Model   10044  2022-02-24 -0.069034 -0.010399 -0.011161   \n",
       "4  Market-Adjusted Model   10065  2022-02-24 -0.060154 -0.002260 -0.002281   \n",
       "\n",
       "   nrets  nrets_est  siccd ticker  ...    sich   gvkey   datadate  \\\n",
       "0     21        100   2052   JJSF  ...  2050.0  012825 2022-09-30   \n",
       "1     21        100   5094    ELA  ...  5990.0  012096 2022-12-31   \n",
       "2     21        100   3670   PLXS  ...  3672.0  012945 2022-09-30   \n",
       "3     21        100   2060   RMCF  ...  2060.0  011976 2022-02-28   \n",
       "4     21        100   6722    ADX  ...     NaN  001119 2022-12-31   \n",
       "\n",
       "                           conm      revt       ni energy Defense      norm  \\\n",
       "0        J & J SNACK FOODS CORP  1380.656   47.235  False   False   690.828   \n",
       "1                   ENVELA CORP   182.686   15.689  False   False    91.843   \n",
       "2                   PLEXUS CORP  3811.368  138.243  False   False  1906.184   \n",
       "3  ROCKY MOUNTAIN CHOC FACT INC    32.342   -0.342  False   False    16.671   \n",
       "4   ADAMS DIVERSIFIED EQUITY FD       NaN      NaN  False   False       NaN   \n",
       "\n",
       "   log_revt  \n",
       "0  6.537891  \n",
       "1  4.520081  \n",
       "2  7.552859  \n",
       "3  2.813671  \n",
       "4       NaN  \n",
       "\n",
       "[5 rows x 24 columns]"
      ]
     },
     "execution_count": 65,
     "metadata": {},
     "output_type": "execute_result"
    }
   ],
   "source": [
    "# log transformation\n",
    "import numpy as np\n",
    "crsp_comp['norm'] = (1+crsp_comp.revt)/2\n",
    "crsp_comp['log_revt'] = np.log(crsp_comp['norm'])\n",
    "crsp_comp.head()"
   ]
  },
  {
   "cell_type": "code",
   "execution_count": 66,
   "id": "581f4a6a-08f2-4e66-984d-d8daf9342196",
   "metadata": {},
   "outputs": [
    {
     "name": "stdout",
     "output_type": "stream",
     "text": [
      "<class 'pandas.core.frame.DataFrame'>\n",
      "RangeIndex: 5443 entries, 0 to 5442\n",
      "Data columns (total 24 columns):\n",
      " #   Column     Non-Null Count  Dtype         \n",
      "---  ------     --------------  -----         \n",
      " 0   Model      5443 non-null   object        \n",
      " 1   permno     5443 non-null   int64         \n",
      " 2   evtdate    5443 non-null   object        \n",
      " 3   cret       5442 non-null   float64       \n",
      " 4   car        5442 non-null   float64       \n",
      " 5   bhar       5442 non-null   float64       \n",
      " 6   nrets      5443 non-null   int64         \n",
      " 7   nrets_est  5443 non-null   int64         \n",
      " 8   siccd      5443 non-null   int64         \n",
      " 9   ticker     5443 non-null   object        \n",
      " 10  comnam     5443 non-null   object        \n",
      " 11  cusip      5443 non-null   object        \n",
      " 12  namedt     5443 non-null   datetime64[ns]\n",
      " 13  year       5443 non-null   int32         \n",
      " 14  sich       4967 non-null   float64       \n",
      " 15  gvkey      5443 non-null   object        \n",
      " 16  datadate   5443 non-null   datetime64[ns]\n",
      " 17  conm       5443 non-null   object        \n",
      " 18  revt       5046 non-null   float64       \n",
      " 19  ni         5046 non-null   float64       \n",
      " 20  energy     5443 non-null   bool          \n",
      " 21  Defense    5443 non-null   bool          \n",
      " 22  norm       5046 non-null   float64       \n",
      " 23  log_revt   5032 non-null   float64       \n",
      "dtypes: bool(2), datetime64[ns](2), float64(8), int32(1), int64(4), object(7)\n",
      "memory usage: 925.0+ KB\n"
     ]
    }
   ],
   "source": [
    "crsp_comp.info()"
   ]
  },
  {
   "cell_type": "markdown",
   "id": "87a5178d-b9b1-4533-8fad-4cf96c600f3e",
   "metadata": {},
   "source": [
    "**Trend of Revenue**"
   ]
  },
  {
   "cell_type": "code",
   "execution_count": 68,
   "id": "ddd6e8fc-253d-4bdd-812c-aba18168ce3d",
   "metadata": {},
   "outputs": [],
   "source": [
    "#Comparing interested industry vs. all other regarding “car” and \"revt\""
   ]
  },
  {
   "cell_type": "code",
   "execution_count": 69,
   "id": "7987650b-6845-4cc3-81ee-b1d6e5e79f7e",
   "metadata": {},
   "outputs": [
    {
     "data": {
      "text/html": [
       "<div>\n",
       "<style scoped>\n",
       "    .dataframe tbody tr th:only-of-type {\n",
       "        vertical-align: middle;\n",
       "    }\n",
       "\n",
       "    .dataframe tbody tr th {\n",
       "        vertical-align: top;\n",
       "    }\n",
       "\n",
       "    .dataframe thead th {\n",
       "        text-align: right;\n",
       "    }\n",
       "</style>\n",
       "<table border=\"1\" class=\"dataframe\">\n",
       "  <thead>\n",
       "    <tr style=\"text-align: right;\">\n",
       "      <th></th>\n",
       "      <th>revt</th>\n",
       "      <th>car</th>\n",
       "    </tr>\n",
       "    <tr>\n",
       "      <th>energy</th>\n",
       "      <th></th>\n",
       "      <th></th>\n",
       "    </tr>\n",
       "  </thead>\n",
       "  <tbody>\n",
       "    <tr>\n",
       "      <th>False</th>\n",
       "      <td>5241.289998</td>\n",
       "      <td>0.032000</td>\n",
       "    </tr>\n",
       "    <tr>\n",
       "      <th>True</th>\n",
       "      <td>109496.682267</td>\n",
       "      <td>0.135134</td>\n",
       "    </tr>\n",
       "  </tbody>\n",
       "</table>\n",
       "</div>"
      ],
      "text/plain": [
       "                 revt       car\n",
       "energy                         \n",
       "False     5241.289998  0.032000\n",
       "True    109496.682267  0.135134"
      ]
     },
     "execution_count": 69,
     "metadata": {},
     "output_type": "execute_result"
    }
   ],
   "source": [
    "comparison=crsp_comp[['revt','car','energy']]\n",
    "comparison=comparison.groupby('energy')[['revt','car']].mean()\n",
    "\n",
    "comparison"
   ]
  },
  {
   "cell_type": "code",
   "execution_count": 70,
   "id": "ebb539aa-8652-4a24-8173-3f708b51a041",
   "metadata": {},
   "outputs": [
    {
     "data": {
      "text/html": [
       "<div>\n",
       "<style scoped>\n",
       "    .dataframe tbody tr th:only-of-type {\n",
       "        vertical-align: middle;\n",
       "    }\n",
       "\n",
       "    .dataframe tbody tr th {\n",
       "        vertical-align: top;\n",
       "    }\n",
       "\n",
       "    .dataframe thead th {\n",
       "        text-align: right;\n",
       "    }\n",
       "</style>\n",
       "<table border=\"1\" class=\"dataframe\">\n",
       "  <thead>\n",
       "    <tr style=\"text-align: right;\">\n",
       "      <th></th>\n",
       "      <th>revt</th>\n",
       "      <th>car</th>\n",
       "    </tr>\n",
       "    <tr>\n",
       "      <th>Defense</th>\n",
       "      <th></th>\n",
       "      <th></th>\n",
       "    </tr>\n",
       "  </thead>\n",
       "  <tbody>\n",
       "    <tr>\n",
       "      <th>False</th>\n",
       "      <td>5541.390996</td>\n",
       "      <td>0.032220</td>\n",
       "    </tr>\n",
       "    <tr>\n",
       "      <th>True</th>\n",
       "      <td>22048.472667</td>\n",
       "      <td>0.148042</td>\n",
       "    </tr>\n",
       "  </tbody>\n",
       "</table>\n",
       "</div>"
      ],
      "text/plain": [
       "                 revt       car\n",
       "Defense                        \n",
       "False     5541.390996  0.032220\n",
       "True     22048.472667  0.148042"
      ]
     },
     "execution_count": 70,
     "metadata": {},
     "output_type": "execute_result"
    }
   ],
   "source": [
    "comparison1=crsp_comp[['revt','car','Defense']]\n",
    "comparison1=comparison1.groupby('Defense')[['revt','car']].mean()\n",
    "\n",
    "comparison1"
   ]
  },
  {
   "cell_type": "code",
   "execution_count": 71,
   "id": "ab495cd0-371c-4da8-a401-5be2e80e27a9",
   "metadata": {},
   "outputs": [],
   "source": [
    "comparison = pd.DataFrame({\n",
    "    'energy':['other industries','energy industries'],\n",
    "    'revt':[5241.289998,109496.682267],\n",
    "    'car': [0.032000,0.135134]\n",
    "}).set_index('energy')"
   ]
  },
  {
   "cell_type": "code",
   "execution_count": 72,
   "id": "373f4223-227e-44ab-bf9e-5270ab95e13c",
   "metadata": {},
   "outputs": [
    {
     "data": {
      "image/png": "[encoded data removed]",
      "text/plain": [
       "<Figure size 400x400 with 1 Axes>"
      ]
     },
     "metadata": {},
     "output_type": "display_data"
    }
   ],
   "source": [
    "import matplotlib.pyplot as plt\n",
    "\n",
    "comparison['revt'].plot(kind='bar', color=['gold','black'],figsize=(4,4))\n",
    "plt.title(\"Trend of Revenue(Energy)\")\n",
    "plt.xlabel(\"Industry\")\n",
    "plt.ylabel(\"Average Revenue(revt)\")\n",
    "plt.xticks(rotation=0)\n",
    "plt.show()"
   ]
  },
  {
   "cell_type": "code",
   "execution_count": 73,
   "id": "178dd43d-8d04-459f-9b1e-c28761d15caa",
   "metadata": {},
   "outputs": [],
   "source": [
    "comparison1 = pd.DataFrame({\n",
    "    'Defense':['other industries','Defense industries'],\n",
    "    'revt':[5541.390996,22048.472667],\n",
    "    'car': [0.032220,0.148042]\n",
    "}).set_index('Defense')"
   ]
  },
  {
   "cell_type": "code",
   "execution_count": 74,
   "id": "f4fb9cd9-9058-4978-98c1-ff6eab6fcbe8",
   "metadata": {},
   "outputs": [
    {
     "data": {
      "image/png": "[encoded data removed]",
      "text/plain": [
       "<Figure size 400x400 with 1 Axes>"
      ]
     },
     "metadata": {},
     "output_type": "display_data"
    }
   ],
   "source": [
    "comparison1['revt'].plot(kind='bar', color=['gold','black'],figsize=(4,4))\n",
    "plt.title(\"Trend of revenue(Defense)\")\n",
    "plt.xlabel(\"Industry\")\n",
    "plt.ylabel(\"Average Revenue(revt)\")\n",
    "plt.xticks(rotation=0)\n",
    "plt.show()"
   ]
  },
  {
   "cell_type": "markdown",
   "id": "a460ece1-09d5-44cd-930a-862d895f93d2",
   "metadata": {},
   "source": [
    "**Trend of Car**"
   ]
  },
  {
   "cell_type": "code",
   "execution_count": 76,
   "id": "16708d6d-2347-4d72-9f52-f08e7b882fcd",
   "metadata": {},
   "outputs": [],
   "source": [
    "#Comparing Energy Industry by CAR with other Industries"
   ]
  },
  {
   "cell_type": "code",
   "execution_count": 77,
   "id": "a00ecbb1-4b82-4546-85ad-707ae934e33b",
   "metadata": {},
   "outputs": [
    {
     "data": {
      "image/png": "[encoded data removed]",
      "text/plain": [
       "<Figure size 400x400 with 1 Axes>"
      ]
     },
     "metadata": {},
     "output_type": "display_data"
    }
   ],
   "source": [
    "comparison['car'].plot(kind='bar', color=['gold', 'black'], figsize=(4, 4))\n",
    "plt.title(\"The Trend of CAR (Energy) \")\n",
    "plt.xlabel(\"Industry\")\n",
    "plt.ylabel(\"Average CAR\")\n",
    "plt.xticks(rotation=0)\n",
    "plt.show()"
   ]
  },
  {
   "cell_type": "code",
   "execution_count": 78,
   "id": "909a8231-fff9-4e01-bbed-cb8598152176",
   "metadata": {},
   "outputs": [],
   "source": [
    "#Comparing Defense Industry by CAR with other Industries"
   ]
  },
  {
   "cell_type": "code",
   "execution_count": 79,
   "id": "66e1ec48-006f-4b7e-9de7-2118a239caa6",
   "metadata": {},
   "outputs": [
    {
     "data": {
      "image/png": "[encoded data removed]",
      "text/plain": [
       "<Figure size 400x400 with 1 Axes>"
      ]
     },
     "metadata": {},
     "output_type": "display_data"
    }
   ],
   "source": [
    "comparison1['car'].plot(kind='bar', color=['gold', 'black'], figsize=(4, 4))\n",
    "plt.title(\"The Trend of CAR (Defense) \")\n",
    "plt.xlabel(\"Industry\")\n",
    "plt.ylabel(\"Average CAR\")\n",
    "plt.xticks(rotation=0)\n",
    "plt.show()"
   ]
  },
  {
   "cell_type": "markdown",
   "id": "ed884bc5-8a8d-4be0-8de9-51cbe92ea2d4",
   "metadata": {},
   "source": [
    "**CORRELATION**"
   ]
  },
  {
   "cell_type": "code",
   "execution_count": 81,
   "id": "4cd9ce40-f143-412f-b536-cc82a2c1cf22",
   "metadata": {},
   "outputs": [
    {
     "data": {
      "image/png": "[encoded data removed]",
      "text/plain": [
       "<Figure size 640x480 with 1 Axes>"
      ]
     },
     "metadata": {},
     "output_type": "display_data"
    }
   ],
   "source": [
    "#Analysing the correlation between CAR and other control variables\n",
    "plt.scatter(crsp_comp['car'],crsp_comp['ni'])\n",
    "plt.xlabel('CAR (Cumlative abnormal returns)')\n",
    "plt.ylabel('NI')\n",
    "plt.title('CAR VS NI')\n",
    "plt.show()"
   ]
  },
  {
   "cell_type": "markdown",
   "id": "bfa0e755-8281-4e82-a179-f358eeec18f6",
   "metadata": {},
   "source": [
    "**REGRESSION**"
   ]
  },
  {
   "cell_type": "code",
   "execution_count": 83,
   "id": "9194bea2-9dc8-40cf-8d16-5d38488f358c",
   "metadata": {},
   "outputs": [],
   "source": [
    "#Regression analysis with \"ni\""
   ]
  },
  {
   "cell_type": "code",
   "execution_count": 84,
   "id": "df945646-a46e-4363-a141-817872da3a80",
   "metadata": {},
   "outputs": [
    {
     "name": "stdout",
     "output_type": "stream",
     "text": [
      "                            OLS Regression Results                            \n",
      "==============================================================================\n",
      "Dep. Variable:                     ni   R-squared:                       0.028\n",
      "Model:                            OLS   Adj. R-squared:                  0.028\n",
      "Method:                 Least Squares   F-statistic:                     146.6\n",
      "Date:                Tue, 26 Nov 2024   Prob (F-statistic):           2.79e-33\n",
      "Time:                        08:08:50   Log-Likelihood:                -47661.\n",
      "No. Observations:                5046   AIC:                         9.533e+04\n",
      "Df Residuals:                    5044   BIC:                         9.534e+04\n",
      "Df Model:                           1                                         \n",
      "Covariance Type:            nonrobust                                         \n",
      "==================================================================================\n",
      "                     coef    std err          t      P>|t|      [0.025      0.975]\n",
      "----------------------------------------------------------------------------------\n",
      "Intercept        464.2582     43.160     10.757      0.000     379.646     548.871\n",
      "energy[T.True]  9584.1020    791.606     12.107      0.000    8032.209    1.11e+04\n",
      "==============================================================================\n",
      "Omnibus:                     9643.640   Durbin-Watson:                   1.953\n",
      "Prob(Omnibus):                  0.000   Jarque-Bera (JB):         25779341.536\n",
      "Skew:                          14.564   Prob(JB):                         0.00\n",
      "Kurtosis:                     351.948   Cond. No.                         18.4\n",
      "==============================================================================\n",
      "\n",
      "Notes:\n",
      "[1] Standard Errors assume that the covariance matrix of the errors is correctly specified.\n"
     ]
    }
   ],
   "source": [
    "import statsmodels.formula.api as smf\n",
    "\n",
    "model = smf.ols(formula='ni ~ energy', data=crsp_comp)\n",
    "results = model.fit()\n",
    "print(results.summary())"
   ]
  },
  {
   "cell_type": "code",
   "execution_count": 85,
   "id": "526edf6e-2b89-4ce9-a665-49292dfdcb95",
   "metadata": {},
   "outputs": [
    {
     "name": "stdout",
     "output_type": "stream",
     "text": [
      "                            OLS Regression Results                            \n",
      "==============================================================================\n",
      "Dep. Variable:                     ni   R-squared:                       0.000\n",
      "Model:                            OLS   Adj. R-squared:                 -0.000\n",
      "Method:                 Least Squares   F-statistic:                    0.5856\n",
      "Date:                Tue, 26 Nov 2024   Prob (F-statistic):              0.444\n",
      "Time:                        08:08:50   Log-Likelihood:                -47733.\n",
      "No. Observations:                5046   AIC:                         9.547e+04\n",
      "Df Residuals:                    5044   BIC:                         9.548e+04\n",
      "Df Model:                           1                                         \n",
      "Covariance Type:            nonrobust                                         \n",
      "===================================================================================\n",
      "                      coef    std err          t      P>|t|      [0.025      0.975]\n",
      "-----------------------------------------------------------------------------------\n",
      "Intercept         491.9325     43.728     11.250      0.000     406.207     577.658\n",
      "Defense[T.True]  1372.4185   1793.380      0.765      0.444   -2143.385    4888.222\n",
      "==============================================================================\n",
      "Omnibus:                     9668.471   Durbin-Watson:                   1.948\n",
      "Prob(Omnibus):                  0.000   Jarque-Bera (JB):         24748677.894\n",
      "Skew:                          14.676   Prob(JB):                         0.00\n",
      "Kurtosis:                     344.832   Cond. No.                         41.0\n",
      "==============================================================================\n",
      "\n",
      "Notes:\n",
      "[1] Standard Errors assume that the covariance matrix of the errors is correctly specified.\n"
     ]
    }
   ],
   "source": [
    "model = smf.ols(formula='ni ~ Defense', data=crsp_comp)\n",
    "results = model.fit()\n",
    "print(results.summary())"
   ]
  },
  {
   "cell_type": "code",
   "execution_count": 86,
   "id": "19765963-0c6d-485d-a2e7-41ab2a01cd98",
   "metadata": {},
   "outputs": [],
   "source": [
    "#Analysing the regression relationship between 'bhar', 'energy' and 'log_revt'"
   ]
  },
  {
   "cell_type": "code",
   "execution_count": 87,
   "id": "d05f4179-45a0-4a36-9d74-73d599cdde34",
   "metadata": {},
   "outputs": [
    {
     "name": "stdout",
     "output_type": "stream",
     "text": [
      "                            OLS Regression Results                            \n",
      "==============================================================================\n",
      "Dep. Variable:                   bhar   R-squared:                       0.001\n",
      "Model:                            OLS   Adj. R-squared:                  0.000\n",
      "Method:                 Least Squares   F-statistic:                     1.683\n",
      "Date:                Tue, 26 Nov 2024   Prob (F-statistic):              0.186\n",
      "Time:                        08:08:50   Log-Likelihood:                -484.40\n",
      "No. Observations:                5031   AIC:                             974.8\n",
      "Df Residuals:                    5028   BIC:                             994.4\n",
      "Df Model:                           2                                         \n",
      "Covariance Type:            nonrobust                                         \n",
      "==================================================================================\n",
      "                     coef    std err          t      P>|t|      [0.025      0.975]\n",
      "----------------------------------------------------------------------------------\n",
      "Intercept          0.0407      0.008      5.426      0.000       0.026       0.055\n",
      "energy[T.True]     0.1068      0.069      1.542      0.123      -0.029       0.242\n",
      "log_revt          -0.0015      0.001     -1.132      0.258      -0.004       0.001\n",
      "==============================================================================\n",
      "Omnibus:                     9178.124   Durbin-Watson:                   1.980\n",
      "Prob(Omnibus):                  0.000   Jarque-Bera (JB):         24357753.631\n",
      "Skew:                          13.067   Prob(JB):                         0.00\n",
      "Kurtosis:                     342.873   Cond. No.                         108.\n",
      "==============================================================================\n",
      "\n",
      "Notes:\n",
      "[1] Standard Errors assume that the covariance matrix of the errors is correctly specified.\n"
     ]
    }
   ],
   "source": [
    "model = smf.ols(formula='bhar ~ energy+log_revt', data=crsp_comp)\n",
    "results = model.fit()\n",
    "print(results.summary())"
   ]
  },
  {
   "cell_type": "code",
   "execution_count": 88,
   "id": "8a320139-830b-4fe1-bf66-195965814a6b",
   "metadata": {},
   "outputs": [
    {
     "name": "stdout",
     "output_type": "stream",
     "text": [
      "                            OLS Regression Results                            \n",
      "==============================================================================\n",
      "Dep. Variable:                   bhar   R-squared:                       0.000\n",
      "Model:                            OLS   Adj. R-squared:                 -0.000\n",
      "Method:                 Least Squares   F-statistic:                    0.7303\n",
      "Date:                Tue, 26 Nov 2024   Prob (F-statistic):              0.482\n",
      "Time:                        08:08:50   Log-Likelihood:                -485.35\n",
      "No. Observations:                5031   AIC:                             976.7\n",
      "Df Residuals:                    5028   BIC:                             996.3\n",
      "Df Model:                           2                                         \n",
      "Covariance Type:            nonrobust                                         \n",
      "===================================================================================\n",
      "                      coef    std err          t      P>|t|      [0.025      0.975]\n",
      "-----------------------------------------------------------------------------------\n",
      "Intercept           0.0400      0.007      5.342      0.000       0.025       0.055\n",
      "Defense[T.True]     0.1060      0.154      0.688      0.491      -0.196       0.408\n",
      "log_revt           -0.0013      0.001     -0.993      0.321      -0.004       0.001\n",
      "==============================================================================\n",
      "Omnibus:                     9176.645   Durbin-Watson:                   1.979\n",
      "Prob(Omnibus):                  0.000   Jarque-Bera (JB):         24333270.009\n",
      "Skew:                          13.062   Prob(JB):                         0.00\n",
      "Kurtosis:                     342.702   Cond. No.                         241.\n",
      "==============================================================================\n",
      "\n",
      "Notes:\n",
      "[1] Standard Errors assume that the covariance matrix of the errors is correctly specified.\n"
     ]
    }
   ],
   "source": [
    "#Analysing the regression relationship between 'bhar', 'Defense' and 'log_revt'\n",
    "model = smf.ols(formula='bhar ~ Defense+log_revt', data=crsp_comp)\n",
    "results = model.fit()\n",
    "print(results.summary())"
   ]
  },
  {
   "cell_type": "code",
   "execution_count": 89,
   "id": "ecf67e72-17b3-4765-8901-bd90e9e51df4",
   "metadata": {},
   "outputs": [],
   "source": [
    "#Regression Analysis using \"car\", “log_revt”, and industry dummies"
   ]
  },
  {
   "cell_type": "code",
   "execution_count": 90,
   "id": "db879261-fa28-4678-8436-07782b7aa084",
   "metadata": {},
   "outputs": [],
   "source": [
    "crsp_comp['sic2'] = (crsp_comp['siccd']/100).astype(int)\n",
    "model=smf.ols(formula='car~energy+C(sic2)+log_revt',data=crsp_comp)"
   ]
  },
  {
   "cell_type": "code",
   "execution_count": 91,
   "id": "c92a4921-3709-4ae9-ba10-b961b87d64fa",
   "metadata": {},
   "outputs": [],
   "source": [
    "import numpy as np\n",
    "crsp_comp = crsp_comp.dropna()  \n",
    "crsp_comp = crsp_comp.replace([np.inf, -np.inf], np.nan).dropna()  \n",
    "crsp_comp['sic2'] = ((crsp_comp['siccd'] / 100).astype(int) + 1e-6)\n",
    "model = smf.ols(formula='car ~ energy + C(sic2) + log_revt', data=crsp_comp)"
   ]
  },
  {
   "cell_type": "code",
   "execution_count": 92,
   "id": "049d6c27-e4e0-4951-a754-326842602418",
   "metadata": {},
   "outputs": [
    {
     "name": "stdout",
     "output_type": "stream",
     "text": [
      "                            OLS Regression Results                            \n",
      "==============================================================================\n",
      "Dep. Variable:                    car   R-squared:                       0.111\n",
      "Model:                            OLS   Adj. R-squared:                  0.097\n",
      "Method:                 Least Squares   F-statistic:                     8.213\n",
      "Date:                Tue, 26 Nov 2024   Prob (F-statistic):           6.07e-79\n",
      "Time:                        08:08:51   Log-Likelihood:                 433.15\n",
      "No. Observations:                4942   AIC:                            -716.3\n",
      "Df Residuals:                    4867   BIC:                            -228.4\n",
      "Df Model:                          74                                         \n",
      "Covariance Type:            nonrobust                                         \n",
      "========================================================================================\n",
      "                           coef    std err          t      P>|t|      [0.025      0.975]\n",
      "----------------------------------------------------------------------------------------\n",
      "Intercept                0.1043      0.056      1.862      0.063      -0.006       0.214\n",
      "energy[T.True]           0.1696      0.128      1.327      0.184      -0.081       0.420\n",
      "C(sic2)[T.1.000001]      0.0830      0.114      0.725      0.469      -0.141       0.307\n",
      "C(sic2)[T.2.000001]      0.0153      0.230      0.066      0.947      -0.436       0.467\n",
      "C(sic2)[T.7.000001]      0.0399      0.107      0.374      0.709      -0.170       0.250\n",
      "C(sic2)[T.9.000001]     -0.0056      0.230     -0.024      0.981      -0.457       0.446\n",
      "C(sic2)[T.10.000001]     0.1959      0.062      3.147      0.002       0.074       0.318\n",
      "C(sic2)[T.12.000001]     0.3520      0.097      3.635      0.000       0.162       0.542\n",
      "C(sic2)[T.13.000001]     0.3665      0.060      6.084      0.000       0.248       0.485\n",
      "C(sic2)[T.14.000001]     0.1248      0.085      1.462      0.144      -0.043       0.292\n",
      "C(sic2)[T.15.000001]    -0.0261      0.077     -0.339      0.735      -0.177       0.125\n",
      "C(sic2)[T.16.000001]     0.0361      0.090      0.400      0.689      -0.141       0.213\n",
      "C(sic2)[T.17.000001]     0.0461      0.082      0.564      0.573      -0.114       0.206\n",
      "C(sic2)[T.20.000001]    -0.0184      0.062     -0.296      0.767      -0.141       0.104\n",
      "C(sic2)[T.21.000001]    -0.1166      0.115     -1.018      0.309      -0.341       0.108\n",
      "C(sic2)[T.22.000001]    -0.0997      0.090     -1.107      0.268      -0.276       0.077\n",
      "C(sic2)[T.23.000001]    -0.1098      0.082     -1.341      0.180      -0.270       0.051\n",
      "C(sic2)[T.24.000001]     0.0175      0.088      0.200      0.842      -0.154       0.189\n",
      "C(sic2)[T.25.000001]    -0.0877      0.085     -1.028      0.304      -0.255       0.080\n",
      "C(sic2)[T.26.000001]    -0.0344      0.078     -0.441      0.659      -0.187       0.118\n",
      "C(sic2)[T.27.000001]    -0.0622      0.072     -0.862      0.389      -0.204       0.079\n",
      "C(sic2)[T.28.000001]    -0.0305      0.058     -0.528      0.597      -0.143       0.083\n",
      "C(sic2)[T.29.000001]    -0.0785      0.125     -0.628      0.530      -0.323       0.166\n",
      "C(sic2)[T.30.000001]    -0.0627      0.077     -0.816      0.414      -0.213       0.088\n",
      "C(sic2)[T.31.000001]    -0.0597      0.101     -0.589      0.556      -0.258       0.139\n",
      "C(sic2)[T.32.000001]    -0.0586      0.080     -0.729      0.466      -0.216       0.099\n",
      "C(sic2)[T.33.000001]     0.0912      0.068      1.350      0.177      -0.041       0.224\n",
      "C(sic2)[T.34.000001]    -0.0109      0.064     -0.169      0.866      -0.137       0.115\n",
      "C(sic2)[T.35.000001]    -0.0412      0.059     -0.694      0.488      -0.158       0.075\n",
      "C(sic2)[T.36.000001]    -0.0202      0.058     -0.347      0.729      -0.135       0.094\n",
      "C(sic2)[T.37.000001]    -0.0368      0.062     -0.595      0.552      -0.158       0.084\n",
      "C(sic2)[T.38.000001]    -0.0614      0.059     -1.043      0.297      -0.177       0.054\n",
      "C(sic2)[T.39.000001]    -0.0266      0.080     -0.331      0.741      -0.184       0.131\n",
      "C(sic2)[T.40.000001]     0.0328      0.141      0.233      0.816      -0.243       0.308\n",
      "C(sic2)[T.41.000001]    -0.2256      0.168     -1.346      0.178      -0.554       0.103\n",
      "C(sic2)[T.42.000001]     0.0041      0.076      0.054      0.957      -0.145       0.153\n",
      "C(sic2)[T.44.000001]     0.1556      0.069      2.261      0.024       0.021       0.290\n",
      "C(sic2)[T.45.000001]    -0.1083      0.073     -1.486      0.137      -0.251       0.035\n",
      "C(sic2)[T.46.000001]     0.0313      0.107      0.292      0.770      -0.179       0.241\n",
      "C(sic2)[T.47.000001]     0.0154      0.075      0.206      0.837      -0.132       0.162\n",
      "C(sic2)[T.48.000001]    -0.0593      0.061     -0.967      0.333      -0.180       0.061\n",
      "C(sic2)[T.49.000001]     0.0469      0.061      0.772      0.440      -0.072       0.166\n",
      "C(sic2)[T.50.000001]     0.0048      0.062      0.078      0.938      -0.116       0.126\n",
      "C(sic2)[T.51.000001]    -0.0141      0.066     -0.212      0.832      -0.144       0.116\n",
      "C(sic2)[T.52.000001]     0.0053      0.115      0.046      0.963      -0.219       0.230\n",
      "C(sic2)[T.53.000001]    -0.0037      0.084     -0.044      0.965      -0.168       0.160\n",
      "C(sic2)[T.54.000001]     0.0999      0.090      1.108      0.268      -0.077       0.277\n",
      "C(sic2)[T.55.000001]    -0.0050      0.075     -0.066      0.947      -0.152       0.142\n",
      "C(sic2)[T.56.000001]    -0.1041      0.069     -1.518      0.129      -0.239       0.030\n",
      "C(sic2)[T.57.000001]    -0.1129      0.080     -1.405      0.160      -0.270       0.045\n",
      "C(sic2)[T.58.000001]    -0.0631      0.068     -0.921      0.357      -0.197       0.071\n",
      "C(sic2)[T.59.000001]    -0.0966      0.065     -1.491      0.136      -0.224       0.030\n",
      "C(sic2)[T.60.000001]    -0.0670      0.058     -1.162      0.245      -0.180       0.046\n",
      "C(sic2)[T.61.000001]    -0.0875      0.066     -1.331      0.183      -0.216       0.041\n",
      "C(sic2)[T.62.000001]    -0.0879      0.062     -1.413      0.158      -0.210       0.034\n",
      "C(sic2)[T.63.000001]    -0.0485      0.061     -0.788      0.430      -0.169       0.072\n",
      "C(sic2)[T.64.000001]    -0.0607      0.075     -0.809      0.419      -0.208       0.086\n",
      "C(sic2)[T.65.000001]     0.0194      0.066      0.296      0.767      -0.109       0.148\n",
      "C(sic2)[T.67.000001]    -0.0301      0.057     -0.528      0.597      -0.142       0.082\n",
      "C(sic2)[T.70.000001]    -0.0398      0.072     -0.555      0.579      -0.180       0.101\n",
      "C(sic2)[T.72.000001]    -0.0266      0.097     -0.275      0.784      -0.216       0.163\n",
      "C(sic2)[T.73.000001]    -0.0858      0.057     -1.501      0.133      -0.198       0.026\n",
      "C(sic2)[T.75.000001]    -0.0165      0.115     -0.144      0.885      -0.241       0.208\n",
      "C(sic2)[T.76.000001]    -0.3749      0.230     -1.628      0.104      -0.826       0.076\n",
      "C(sic2)[T.78.000001]    -0.0122      0.097     -0.127      0.899      -0.202       0.177\n",
      "C(sic2)[T.79.000001]    -0.0292      0.074     -0.393      0.694      -0.175       0.116\n",
      "C(sic2)[T.80.000001]    -0.0062      0.065     -0.094      0.925      -0.134       0.122\n",
      "C(sic2)[T.82.000001]    -0.1019      0.076     -1.344      0.179      -0.250       0.047\n",
      "C(sic2)[T.83.000001]     0.0199      0.141      0.142      0.887      -0.256       0.296\n",
      "C(sic2)[T.87.000001]    -0.0214      0.061     -0.352      0.725      -0.141       0.098\n",
      "C(sic2)[T.89.000001]    -0.0910      0.230     -0.395      0.693      -0.542       0.360\n",
      "C(sic2)[T.96.000001]     0.0930      0.230      0.404      0.686      -0.359       0.544\n",
      "C(sic2)[T.97.000001]     0.1897      0.230      0.824      0.410      -0.262       0.641\n",
      "C(sic2)[T.99.000001]    -0.0850      0.056     -1.514      0.130      -0.195       0.025\n",
      "log_revt                -0.0061      0.001     -4.719      0.000      -0.009      -0.004\n",
      "==============================================================================\n",
      "Omnibus:                     6583.796   Durbin-Watson:                   2.004\n",
      "Prob(Omnibus):                  0.000   Jarque-Bera (JB):          4515834.268\n",
      "Skew:                           7.025   Prob(JB):                         0.00\n",
      "Kurtosis:                     150.421   Cond. No.                         901.\n",
      "==============================================================================\n",
      "\n",
      "Notes:\n",
      "[1] Standard Errors assume that the covariance matrix of the errors is correctly specified.\n"
     ]
    }
   ],
   "source": [
    "results = model.fit()\n",
    "print(results.summary())"
   ]
  },
  {
   "cell_type": "code",
   "execution_count": 93,
   "id": "083072c7-1afa-4dc7-91b8-a8cd580c9e44",
   "metadata": {},
   "outputs": [],
   "source": [
    "crsp_comp['sic2'] = (crsp_comp['siccd']/100).astype(int)\n",
    "model=smf.ols(formula='car~Defense+C(sic2)+log_revt',data=crsp_comp)"
   ]
  },
  {
   "cell_type": "code",
   "execution_count": 94,
   "id": "e7ade98a-7699-4a55-b72f-48f451817552",
   "metadata": {},
   "outputs": [],
   "source": [
    "crsp_comp = crsp_comp.dropna()  \n",
    "crsp_comp = crsp_comp.replace([np.inf, -np.inf], np.nan).dropna()  \n",
    "crsp_comp['sic2'] = ((crsp_comp['siccd'] / 100).astype(int) + 1e-6)\n",
    "model = smf.ols(formula='car ~ Defense + C(sic2) + log_revt', data=crsp_comp)"
   ]
  },
  {
   "cell_type": "code",
   "execution_count": 95,
   "id": "4b739daf-db0a-4cd8-8a5e-424ce7f5f5fb",
   "metadata": {},
   "outputs": [
    {
     "name": "stdout",
     "output_type": "stream",
     "text": [
      "                            OLS Regression Results                            \n",
      "==============================================================================\n",
      "Dep. Variable:                    car   R-squared:                       0.111\n",
      "Model:                            OLS   Adj. R-squared:                  0.097\n",
      "Method:                 Least Squares   F-statistic:                     8.197\n",
      "Date:                Tue, 26 Nov 2024   Prob (F-statistic):           9.42e-79\n",
      "Time:                        08:08:51   Log-Likelihood:                 432.64\n",
      "No. Observations:                4942   AIC:                            -715.3\n",
      "Df Residuals:                    4867   BIC:                            -227.4\n",
      "Df Model:                          74                                         \n",
      "Covariance Type:            nonrobust                                         \n",
      "========================================================================================\n",
      "                           coef    std err          t      P>|t|      [0.025      0.975]\n",
      "----------------------------------------------------------------------------------------\n",
      "Intercept                0.1040      0.056      1.857      0.063      -0.006       0.214\n",
      "Defense[T.True]          0.1153      0.132      0.875      0.381      -0.143       0.374\n",
      "C(sic2)[T.1.000001]      0.0828      0.115      0.723      0.470      -0.142       0.307\n",
      "C(sic2)[T.2.000001]      0.0150      0.230      0.065      0.948      -0.436       0.467\n",
      "C(sic2)[T.7.000001]      0.0398      0.107      0.372      0.710      -0.170       0.250\n",
      "C(sic2)[T.9.000001]     -0.0057      0.230     -0.025      0.980      -0.457       0.446\n",
      "C(sic2)[T.10.000001]     0.1958      0.062      3.146      0.002       0.074       0.318\n",
      "C(sic2)[T.12.000001]     0.3517      0.097      3.632      0.000       0.162       0.542\n",
      "C(sic2)[T.13.000001]     0.3663      0.060      6.080      0.000       0.248       0.484\n",
      "C(sic2)[T.14.000001]     0.1246      0.085      1.460      0.144      -0.043       0.292\n",
      "C(sic2)[T.15.000001]    -0.0264      0.077     -0.343      0.732      -0.177       0.124\n",
      "C(sic2)[T.16.000001]     0.0358      0.090      0.397      0.691      -0.141       0.213\n",
      "C(sic2)[T.17.000001]     0.0460      0.082      0.562      0.574      -0.114       0.206\n",
      "C(sic2)[T.20.000001]    -0.0187      0.062     -0.300      0.765      -0.141       0.104\n",
      "C(sic2)[T.21.000001]    -0.1169      0.115     -1.021      0.308      -0.341       0.108\n",
      "C(sic2)[T.22.000001]    -0.0998      0.090     -1.108      0.268      -0.276       0.077\n",
      "C(sic2)[T.23.000001]    -0.1100      0.082     -1.344      0.179      -0.270       0.050\n",
      "C(sic2)[T.24.000001]     0.0172      0.088      0.196      0.845      -0.155       0.189\n",
      "C(sic2)[T.25.000001]    -0.0880      0.085     -1.030      0.303      -0.255       0.079\n",
      "C(sic2)[T.26.000001]    -0.0347      0.078     -0.445      0.657      -0.188       0.118\n",
      "C(sic2)[T.27.000001]    -0.0623      0.072     -0.863      0.388      -0.204       0.079\n",
      "C(sic2)[T.28.000001]    -0.0305      0.058     -0.530      0.596      -0.144       0.082\n",
      "C(sic2)[T.29.000001]     0.0508      0.078      0.650      0.516      -0.102       0.204\n",
      "C(sic2)[T.30.000001]    -0.0629      0.077     -0.819      0.413      -0.214       0.088\n",
      "C(sic2)[T.31.000001]    -0.0599      0.101     -0.591      0.555      -0.258       0.139\n",
      "C(sic2)[T.32.000001]    -0.0587      0.080     -0.731      0.465      -0.216       0.099\n",
      "C(sic2)[T.33.000001]     0.0910      0.068      1.346      0.178      -0.041       0.223\n",
      "C(sic2)[T.34.000001]    -0.0111      0.064     -0.172      0.863      -0.137       0.115\n",
      "C(sic2)[T.35.000001]    -0.0414      0.059     -0.697      0.486      -0.158       0.075\n",
      "C(sic2)[T.36.000001]    -0.0204      0.058     -0.350      0.727      -0.135       0.094\n",
      "C(sic2)[T.37.000001]    -0.0418      0.062     -0.673      0.501      -0.163       0.080\n",
      "C(sic2)[T.38.000001]    -0.0616      0.059     -1.045      0.296      -0.177       0.054\n",
      "C(sic2)[T.39.000001]    -0.0268      0.080     -0.333      0.739      -0.184       0.131\n",
      "C(sic2)[T.40.000001]     0.0325      0.141      0.231      0.817      -0.243       0.308\n",
      "C(sic2)[T.41.000001]    -0.2259      0.168     -1.348      0.178      -0.554       0.103\n",
      "C(sic2)[T.42.000001]     0.0038      0.076      0.050      0.960      -0.145       0.153\n",
      "C(sic2)[T.44.000001]     0.1554      0.069      2.259      0.024       0.021       0.290\n",
      "C(sic2)[T.45.000001]    -0.1086      0.073     -1.490      0.136      -0.252       0.034\n",
      "C(sic2)[T.46.000001]     0.0310      0.107      0.289      0.772      -0.179       0.241\n",
      "C(sic2)[T.47.000001]     0.0152      0.075      0.203      0.839      -0.132       0.162\n",
      "C(sic2)[T.48.000001]    -0.0596      0.061     -0.971      0.331      -0.180       0.061\n",
      "C(sic2)[T.49.000001]     0.0467      0.061      0.768      0.443      -0.073       0.166\n",
      "C(sic2)[T.50.000001]     0.0046      0.062      0.075      0.940      -0.116       0.126\n",
      "C(sic2)[T.51.000001]    -0.0144      0.066     -0.217      0.828      -0.144       0.116\n",
      "C(sic2)[T.52.000001]     0.0050      0.115      0.043      0.965      -0.220       0.230\n",
      "C(sic2)[T.53.000001]    -0.0041      0.084     -0.049      0.961      -0.168       0.160\n",
      "C(sic2)[T.54.000001]     0.0996      0.090      1.104      0.270      -0.077       0.276\n",
      "C(sic2)[T.55.000001]    -0.0053      0.075     -0.071      0.943      -0.153       0.142\n",
      "C(sic2)[T.56.000001]    -0.1044      0.069     -1.522      0.128      -0.239       0.030\n",
      "C(sic2)[T.57.000001]    -0.1130      0.080     -1.407      0.160      -0.271       0.044\n",
      "C(sic2)[T.58.000001]    -0.0633      0.068     -0.924      0.355      -0.198       0.071\n",
      "C(sic2)[T.59.000001]    -0.0968      0.065     -1.494      0.135      -0.224       0.030\n",
      "C(sic2)[T.60.000001]    -0.0671      0.058     -1.165      0.244      -0.180       0.046\n",
      "C(sic2)[T.61.000001]    -0.0876      0.066     -1.334      0.182      -0.216       0.041\n",
      "C(sic2)[T.62.000001]    -0.0881      0.062     -1.416      0.157      -0.210       0.034\n",
      "C(sic2)[T.63.000001]    -0.0487      0.061     -0.793      0.428      -0.169       0.072\n",
      "C(sic2)[T.64.000001]    -0.0609      0.075     -0.812      0.417      -0.208       0.086\n",
      "C(sic2)[T.65.000001]     0.0193      0.066      0.294      0.769      -0.109       0.148\n",
      "C(sic2)[T.67.000001]    -0.0303      0.057     -0.530      0.596      -0.142       0.082\n",
      "C(sic2)[T.70.000001]    -0.0400      0.072     -0.558      0.577      -0.180       0.100\n",
      "C(sic2)[T.72.000001]    -0.0268      0.097     -0.277      0.782      -0.217       0.163\n",
      "C(sic2)[T.73.000001]    -0.0859      0.057     -1.504      0.133      -0.198       0.026\n",
      "C(sic2)[T.75.000001]    -0.0167      0.115     -0.146      0.884      -0.241       0.208\n",
      "C(sic2)[T.76.000001]    -0.3751      0.230     -1.629      0.103      -0.827       0.076\n",
      "C(sic2)[T.78.000001]    -0.0125      0.097     -0.129      0.898      -0.202       0.177\n",
      "C(sic2)[T.79.000001]    -0.0293      0.074     -0.395      0.693      -0.175       0.116\n",
      "C(sic2)[T.80.000001]    -0.0063      0.065     -0.096      0.923      -0.135       0.122\n",
      "C(sic2)[T.82.000001]    -0.1020      0.076     -1.345      0.179      -0.251       0.047\n",
      "C(sic2)[T.83.000001]     0.0197      0.141      0.140      0.889      -0.256       0.295\n",
      "C(sic2)[T.87.000001]    -0.0215      0.061     -0.354      0.724      -0.141       0.098\n",
      "C(sic2)[T.89.000001]    -0.0911      0.230     -0.396      0.692      -0.543       0.360\n",
      "C(sic2)[T.96.000001]     0.0926      0.230      0.402      0.688      -0.359       0.544\n",
      "C(sic2)[T.97.000001]     0.1893      0.230      0.822      0.411      -0.262       0.641\n",
      "C(sic2)[T.99.000001]    -0.0849      0.056     -1.513      0.130      -0.195       0.025\n",
      "log_revt                -0.0060      0.001     -4.662      0.000      -0.009      -0.003\n",
      "==============================================================================\n",
      "Omnibus:                     6583.452   Durbin-Watson:                   2.004\n",
      "Prob(Omnibus):                  0.000   Jarque-Bera (JB):          4513064.230\n",
      "Skew:                           7.025   Prob(JB):                         0.00\n",
      "Kurtosis:                     150.376   Cond. No.                         901.\n",
      "==============================================================================\n",
      "\n",
      "Notes:\n",
      "[1] Standard Errors assume that the covariance matrix of the errors is correctly specified.\n"
     ]
    }
   ],
   "source": [
    "results = model.fit()\n",
    "print(results.summary())"
   ]
  },
  {
   "cell_type": "code",
   "execution_count": 96,
   "id": "a7764150-b250-4233-a9ed-e5c02ef57473",
   "metadata": {},
   "outputs": [],
   "source": [
    "#Filtering profitable companies and fitting an OLS regression model to examine the impact of energy and log_revt on car."
   ]
  },
  {
   "cell_type": "code",
   "execution_count": 97,
   "id": "7ad4761e-d19c-407a-bcbe-3a474b01e97a",
   "metadata": {},
   "outputs": [],
   "source": [
    "crsp_comp_profit=crsp_comp[(crsp_comp['ni']>=0)]"
   ]
  },
  {
   "cell_type": "code",
   "execution_count": 98,
   "id": "66871dc0-f2dd-43ff-a884-950a792cc495",
   "metadata": {},
   "outputs": [
    {
     "name": "stdout",
     "output_type": "stream",
     "text": [
      "                            OLS Regression Results                            \n",
      "==============================================================================\n",
      "Dep. Variable:                    car   R-squared:                       0.019\n",
      "Model:                            OLS   Adj. R-squared:                  0.018\n",
      "Method:                 Least Squares   F-statistic:                     26.42\n",
      "Date:                Tue, 26 Nov 2024   Prob (F-statistic):           4.31e-12\n",
      "Time:                        08:08:51   Log-Likelihood:                 1192.6\n",
      "No. Observations:                2713   AIC:                            -2379.\n",
      "Df Residuals:                    2710   BIC:                            -2361.\n",
      "Df Model:                           2                                         \n",
      "Covariance Type:            nonrobust                                         \n",
      "==================================================================================\n",
      "                     coef    std err          t      P>|t|      [0.025      0.975]\n",
      "----------------------------------------------------------------------------------\n",
      "Intercept          0.1104      0.010     11.467      0.000       0.092       0.129\n",
      "energy[T.True]     0.1444      0.047      3.048      0.002       0.052       0.237\n",
      "log_revt          -0.0097      0.001     -6.881      0.000      -0.013      -0.007\n",
      "==============================================================================\n",
      "Omnibus:                     1739.770   Durbin-Watson:                   1.996\n",
      "Prob(Omnibus):                  0.000   Jarque-Bera (JB):            84739.545\n",
      "Skew:                           2.391   Prob(JB):                         0.00\n",
      "Kurtosis:                      29.959   Cond. No.                         109.\n",
      "==============================================================================\n",
      "\n",
      "Notes:\n",
      "[1] Standard Errors assume that the covariance matrix of the errors is correctly specified.\n"
     ]
    }
   ],
   "source": [
    "model = smf.ols(formula='car ~ energy+log_revt', data=crsp_comp_profit)\n",
    "results = model.fit()\n",
    "print(results.summary())"
   ]
  },
  {
   "cell_type": "code",
   "execution_count": 99,
   "id": "44384dcb-092e-4723-9aed-7551a03d53f2",
   "metadata": {},
   "outputs": [
    {
     "name": "stdout",
     "output_type": "stream",
     "text": [
      "                            OLS Regression Results                            \n",
      "==============================================================================\n",
      "Dep. Variable:                    car   R-squared:                       0.016\n",
      "Model:                            OLS   Adj. R-squared:                  0.015\n",
      "Method:                 Least Squares   F-statistic:                     22.33\n",
      "Date:                Tue, 26 Nov 2024   Prob (F-statistic):           2.40e-10\n",
      "Time:                        08:08:51   Log-Likelihood:                 1188.5\n",
      "No. Observations:                2713   AIC:                            -2371.\n",
      "Df Residuals:                    2710   BIC:                            -2353.\n",
      "Df Model:                           2                                         \n",
      "Covariance Type:            nonrobust                                         \n",
      "===================================================================================\n",
      "                      coef    std err          t      P>|t|      [0.025      0.975]\n",
      "-----------------------------------------------------------------------------------\n",
      "Intercept           0.1084      0.010     11.272      0.000       0.090       0.127\n",
      "Defense[T.True]     0.1737      0.156      1.111      0.267      -0.133       0.480\n",
      "log_revt           -0.0093      0.001     -6.625      0.000      -0.012      -0.007\n",
      "==============================================================================\n",
      "Omnibus:                     1736.120   Durbin-Watson:                   1.993\n",
      "Prob(Omnibus):                  0.000   Jarque-Bera (JB):            84017.929\n",
      "Skew:                           2.385   Prob(JB):                         0.00\n",
      "Kurtosis:                      29.842   Cond. No.                         359.\n",
      "==============================================================================\n",
      "\n",
      "Notes:\n",
      "[1] Standard Errors assume that the covariance matrix of the errors is correctly specified.\n"
     ]
    }
   ],
   "source": [
    "model = smf.ols(formula='car ~ Defense+log_revt', data=crsp_comp_profit)\n",
    "results = model.fit()\n",
    "print(results.summary())"
   ]
  },
  {
   "cell_type": "code",
   "execution_count": null,
   "id": "7d1fa9d4-e1ce-4145-821e-44200daff197",
   "metadata": {},
   "outputs": [],
   "source": []
  },
  {
   "cell_type": "code",
   "execution_count": 200,
   "id": "3a9cc559-afb7-44a8-8d05-1bb93dd1735a",
   "metadata": {},
   "outputs": [],
   "source": [
    "#   Pickle File Github Link\n",
    "#   URL=https://github.com/ARIFFKHANAMIR/Pickle/blob/main/assignmentmod-1.pkl"
   ]
  },
  {
   "cell_type": "code",
   "execution_count": null,
   "id": "44e4193f-66b2-4b3b-8da7-62964973bea9",
   "metadata": {},
   "outputs": [],
   "source": []
  }
 ],
 "metadata": {
  "kernelspec": {
   "display_name": "Python 3 (ipykernel)",
   "language": "python",
   "name": "python3"
  },
  "language_info": {
   "codemirror_mode": {
    "name": "ipython",
    "version": 3
   },
   "file_extension": ".py",
   "mimetype": "text/x-python",
   "name": "python",
   "nbconvert_exporter": "python",
   "pygments_lexer": "ipython3",
   "version": "3.12.4"
  }
 },
 "nbformat": 4,
 "nbformat_minor": 5
}
